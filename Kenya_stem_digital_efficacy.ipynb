{
  "nbformat": 4,
  "nbformat_minor": 0,
  "metadata": {
    "colab": {
      "provenance": []
    },
    "kernelspec": {
      "name": "python3",
      "display_name": "Python 3"
    },
    "language_info": {
      "name": "python"
    }
  },
  "cells": [
    {
      "cell_type": "markdown",
      "source": [
        "# Situational Analysis: Teachers' Efficacy in Using Digital Resources for STEM Subjects in Kenyan Schools\n",
        "\n",
        "## Date: 16/05/2025\n",
        "\n",
        "## Analyst : Simiyu David Masai\n",
        "---\n",
        "\n",
        "# Phase 1: BUSINESS UNDERSTANDING\n",
        "\n",
        "## 1.1 Project Overview\n",
        "\n",
        "- This project analyzes the efficacy of teachers in Kenyan Junior and Secondary schools in utilizing digital resources for STEM (Science, Technology, Engineering, and Mathematics) education.\n",
        "- The analysis is based on data collected through Head of Institution interviews, teacher questionnaires, learner Focus Group Discussions (FGDs), and lesson observations.\n",
        "- The primary goal is to **understand the current landscape, identify challenges, and provide actionable insights for stakeholders like CEMASTEA (Centre for Mathematics, Science and Technology Education in Africa) and the Ministry of Education, Kenya**.\n",
        "\n",
        "This research aims to address the following:\n",
        "* **General Objective:**\n",
        "- To assess the teachers’ efficacy on the use of digital resources for learning STEM subjects in Kenyan schools.\n",
        "* **Specific Objectives:**\n",
        "    1.  To investigate the relationship between teacher training (TPD) in STEM and their ability to effectively use digital resources.\n",
        "    2.  To establish the influence of the use of digital resources on the teacher's instructional practices in STEM subjects.\n",
        "    3.  To establish teachers’ awareness on the available digital resources for STEM subjects.\n",
        "    4.  To assess the extent of support provided to teachers for adopting digital resources in teaching STEM subjects.\n",
        "\n",
        "**Keywords:** STEM Education, Digital Resources, Teacher Efficacy, Kenya, Educational Technology, Teacher Training, Instructional Practices, CEMASTEA, CBC Kenya.\n",
        "\n",
        "---\n",
        "\n",
        "## 1.2 KEY STAKEHOLDERS\n",
        "\n",
        "1. MINISTRY OF EDUCATION\n",
        "2. CENTRE OF MATHEMATICS SCIENCE AND TECHNOLOGY EDUCATION IN AFRICA\n",
        "3. SCHOOL ADMINSTRATORS,TEACHERS AND LEARNERS\n",
        "4. RESEARCH COMMUNITIES\n"
      ],
      "metadata": {
        "id": "dD1FGU1EQgBB"
      }
    },
    {
      "cell_type": "code",
      "execution_count": null,
      "metadata": {
        "id": "IVuQdYhlQGRx"
      },
      "outputs": [],
      "source": []
    }
  ]
}