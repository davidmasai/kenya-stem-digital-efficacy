{
  "nbformat": 4,
  "nbformat_minor": 0,
  "metadata": {
    "colab": {
      "provenance": []
    },
    "kernelspec": {
      "name": "python3",
      "display_name": "Python 3"
    },
    "language_info": {
      "name": "python"
    }
  },
  "cells": [
    {
      "cell_type": "markdown",
      "source": [
        "# Situational Analysis: Teachers' Efficacy in Using Digital Resources for STEM Subjects in Kenyan Schools\n",
        "\n",
        "## Date: 16/05/2025\n",
        "\n",
        "## Analyst : Simiyu David Masai\n",
        "---\n",
        "\n",
        "# Phase 1: BUSINESS UNDERSTANDING\n",
        "\n",
        "## 1.1 Project Overview\n",
        "\n",
        "- This project analyzes the efficacy of teachers in Kenyan Junior and Secondary schools in utilizing digital resources for STEM (Science, Technology, Engineering, and Mathematics) education.\n",
        "- The analysis is based on data collected through Head of Institution interviews, teacher questionnaires, learner Focus Group Discussions (FGDs), and lesson observations.\n",
        "- The primary goal is to **understand the current landscape, identify challenges, and provide actionable insights for stakeholders like CEMASTEA (Centre for Mathematics, Science and Technology Education in Africa) and the Ministry of Education, Kenya**.\n",
        "\n",
        "This research aims to address the following:\n",
        "* **General Objective:**\n",
        "- To assess the teachers’ efficacy on the use of digital resources for learning STEM subjects in Kenyan schools.\n",
        "* **Specific Objectives:**\n",
        "    1.  To investigate the relationship between teacher training (TPD) in STEM and their ability to effectively use digital resources.\n",
        "    2.  To establish the influence of the use of digital resources on the teacher's instructional practices in STEM subjects.\n",
        "    3.  To establish teachers’ awareness on the available digital resources for STEM subjects.\n",
        "    4.  To assess the extent of support provided to teachers for adopting digital resources in teaching STEM subjects.\n",
        "\n",
        "**Keywords:** STEM Education, Digital Resources, Teacher Efficacy, Kenya, Educational Technology, Teacher Training, Instructional Practices, CEMASTEA, CBC Kenya.\n",
        "\n",
        "---\n",
        "\n",
        "## 1.2 KEY STAKEHOLDERS\n",
        "\n",
        "1. MINISTRY OF EDUCATION\n",
        "2. CENTRE OF MATHEMATICS SCIENCE AND TECHNOLOGY EDUCATION IN AFRICA\n",
        "3. SCHOOL ADMINSTRATORS,TEACHERS AND LEARNERS\n",
        "4. RESEARCH COMMUNITIES\n",
        "\n",
        "\n",
        "\n",
        "---\n",
        "## 1.3 DATA SOURCES\n"
      ],
      "metadata": {
        "id": "dD1FGU1EQgBB"
      }
    },
    {
      "cell_type": "code",
      "source": [
        "from google.colab import drive\n",
        "drive.mount('/content/drive')"
      ],
      "metadata": {
        "colab": {
          "base_uri": "https://localhost:8080/",
          "height": 304
        },
        "id": "YFuy032wscez",
        "outputId": "03508c29-68e4-4f00-e2f9-db7890c372c0"
      },
      "execution_count": 18,
      "outputs": [
        {
          "output_type": "error",
          "ename": "MessageError",
          "evalue": "Error: credential propagation was unsuccessful",
          "traceback": [
            "\u001b[0;31m---------------------------------------------------------------------------\u001b[0m",
            "\u001b[0;31mMessageError\u001b[0m                              Traceback (most recent call last)",
            "\u001b[0;32m<ipython-input-18-d5df0069828e>\u001b[0m in \u001b[0;36m<cell line: 0>\u001b[0;34m()\u001b[0m\n\u001b[1;32m      1\u001b[0m \u001b[0;32mfrom\u001b[0m \u001b[0mgoogle\u001b[0m\u001b[0;34m.\u001b[0m\u001b[0mcolab\u001b[0m \u001b[0;32mimport\u001b[0m \u001b[0mdrive\u001b[0m\u001b[0;34m\u001b[0m\u001b[0;34m\u001b[0m\u001b[0m\n\u001b[0;32m----> 2\u001b[0;31m \u001b[0mdrive\u001b[0m\u001b[0;34m.\u001b[0m\u001b[0mmount\u001b[0m\u001b[0;34m(\u001b[0m\u001b[0;34m'/content/drive'\u001b[0m\u001b[0;34m)\u001b[0m\u001b[0;34m\u001b[0m\u001b[0;34m\u001b[0m\u001b[0m\n\u001b[0m",
            "\u001b[0;32m/usr/local/lib/python3.11/dist-packages/google/colab/drive.py\u001b[0m in \u001b[0;36mmount\u001b[0;34m(mountpoint, force_remount, timeout_ms, readonly)\u001b[0m\n\u001b[1;32m     98\u001b[0m \u001b[0;32mdef\u001b[0m \u001b[0mmount\u001b[0m\u001b[0;34m(\u001b[0m\u001b[0mmountpoint\u001b[0m\u001b[0;34m,\u001b[0m \u001b[0mforce_remount\u001b[0m\u001b[0;34m=\u001b[0m\u001b[0;32mFalse\u001b[0m\u001b[0;34m,\u001b[0m \u001b[0mtimeout_ms\u001b[0m\u001b[0;34m=\u001b[0m\u001b[0;36m120000\u001b[0m\u001b[0;34m,\u001b[0m \u001b[0mreadonly\u001b[0m\u001b[0;34m=\u001b[0m\u001b[0;32mFalse\u001b[0m\u001b[0;34m)\u001b[0m\u001b[0;34m:\u001b[0m\u001b[0;34m\u001b[0m\u001b[0;34m\u001b[0m\u001b[0m\n\u001b[1;32m     99\u001b[0m   \u001b[0;34m\"\"\"Mount your Google Drive at the specified mountpoint path.\"\"\"\u001b[0m\u001b[0;34m\u001b[0m\u001b[0;34m\u001b[0m\u001b[0m\n\u001b[0;32m--> 100\u001b[0;31m   return _mount(\n\u001b[0m\u001b[1;32m    101\u001b[0m       \u001b[0mmountpoint\u001b[0m\u001b[0;34m,\u001b[0m\u001b[0;34m\u001b[0m\u001b[0;34m\u001b[0m\u001b[0m\n\u001b[1;32m    102\u001b[0m       \u001b[0mforce_remount\u001b[0m\u001b[0;34m=\u001b[0m\u001b[0mforce_remount\u001b[0m\u001b[0;34m,\u001b[0m\u001b[0;34m\u001b[0m\u001b[0;34m\u001b[0m\u001b[0m\n",
            "\u001b[0;32m/usr/local/lib/python3.11/dist-packages/google/colab/drive.py\u001b[0m in \u001b[0;36m_mount\u001b[0;34m(mountpoint, force_remount, timeout_ms, ephemeral, readonly)\u001b[0m\n\u001b[1;32m    135\u001b[0m   )\n\u001b[1;32m    136\u001b[0m   \u001b[0;32mif\u001b[0m \u001b[0mephemeral\u001b[0m\u001b[0;34m:\u001b[0m\u001b[0;34m\u001b[0m\u001b[0;34m\u001b[0m\u001b[0m\n\u001b[0;32m--> 137\u001b[0;31m     _message.blocking_request(\n\u001b[0m\u001b[1;32m    138\u001b[0m         \u001b[0;34m'request_auth'\u001b[0m\u001b[0;34m,\u001b[0m\u001b[0;34m\u001b[0m\u001b[0;34m\u001b[0m\u001b[0m\n\u001b[1;32m    139\u001b[0m         \u001b[0mrequest\u001b[0m\u001b[0;34m=\u001b[0m\u001b[0;34m{\u001b[0m\u001b[0;34m'authType'\u001b[0m\u001b[0;34m:\u001b[0m \u001b[0;34m'dfs_ephemeral'\u001b[0m\u001b[0;34m}\u001b[0m\u001b[0;34m,\u001b[0m\u001b[0;34m\u001b[0m\u001b[0;34m\u001b[0m\u001b[0m\n",
            "\u001b[0;32m/usr/local/lib/python3.11/dist-packages/google/colab/_message.py\u001b[0m in \u001b[0;36mblocking_request\u001b[0;34m(request_type, request, timeout_sec, parent)\u001b[0m\n\u001b[1;32m    174\u001b[0m       \u001b[0mrequest_type\u001b[0m\u001b[0;34m,\u001b[0m \u001b[0mrequest\u001b[0m\u001b[0;34m,\u001b[0m \u001b[0mparent\u001b[0m\u001b[0;34m=\u001b[0m\u001b[0mparent\u001b[0m\u001b[0;34m,\u001b[0m \u001b[0mexpect_reply\u001b[0m\u001b[0;34m=\u001b[0m\u001b[0;32mTrue\u001b[0m\u001b[0;34m\u001b[0m\u001b[0;34m\u001b[0m\u001b[0m\n\u001b[1;32m    175\u001b[0m   )\n\u001b[0;32m--> 176\u001b[0;31m   \u001b[0;32mreturn\u001b[0m \u001b[0mread_reply_from_input\u001b[0m\u001b[0;34m(\u001b[0m\u001b[0mrequest_id\u001b[0m\u001b[0;34m,\u001b[0m \u001b[0mtimeout_sec\u001b[0m\u001b[0;34m)\u001b[0m\u001b[0;34m\u001b[0m\u001b[0;34m\u001b[0m\u001b[0m\n\u001b[0m",
            "\u001b[0;32m/usr/local/lib/python3.11/dist-packages/google/colab/_message.py\u001b[0m in \u001b[0;36mread_reply_from_input\u001b[0;34m(message_id, timeout_sec)\u001b[0m\n\u001b[1;32m    101\u001b[0m     ):\n\u001b[1;32m    102\u001b[0m       \u001b[0;32mif\u001b[0m \u001b[0;34m'error'\u001b[0m \u001b[0;32min\u001b[0m \u001b[0mreply\u001b[0m\u001b[0;34m:\u001b[0m\u001b[0;34m\u001b[0m\u001b[0;34m\u001b[0m\u001b[0m\n\u001b[0;32m--> 103\u001b[0;31m         \u001b[0;32mraise\u001b[0m \u001b[0mMessageError\u001b[0m\u001b[0;34m(\u001b[0m\u001b[0mreply\u001b[0m\u001b[0;34m[\u001b[0m\u001b[0;34m'error'\u001b[0m\u001b[0;34m]\u001b[0m\u001b[0;34m)\u001b[0m\u001b[0;34m\u001b[0m\u001b[0;34m\u001b[0m\u001b[0m\n\u001b[0m\u001b[1;32m    104\u001b[0m       \u001b[0;32mreturn\u001b[0m \u001b[0mreply\u001b[0m\u001b[0;34m.\u001b[0m\u001b[0mget\u001b[0m\u001b[0;34m(\u001b[0m\u001b[0;34m'data'\u001b[0m\u001b[0;34m,\u001b[0m \u001b[0;32mNone\u001b[0m\u001b[0;34m)\u001b[0m\u001b[0;34m\u001b[0m\u001b[0;34m\u001b[0m\u001b[0m\n\u001b[1;32m    105\u001b[0m \u001b[0;34m\u001b[0m\u001b[0m\n",
            "\u001b[0;31mMessageError\u001b[0m: Error: credential propagation was unsuccessful"
          ]
        }
      ]
    },
    {
      "cell_type": "code",
      "source": [
        "#  Install dependencies\n",
        "! pip install rapidfuzz\n",
        "!pip install spacy\n",
        "! pip install sentence-transformers umap-learn hdbscan keybert\n",
        "\n",
        "\n",
        "#import necessary libraries\n",
        "import pandas as pd\n",
        "import numpy as np\n",
        "import matplotlib.pyplot as plt\n",
        "import seaborn as sns\n",
        "import plotly.express as px\n",
        "import plotly.graph_objects as go\n",
        "import spacy\n",
        "from collections import Counter\n",
        "from collections import defaultdict\n",
        "from sklearn.feature_extraction.text import TfidfVectorizer\n",
        "from sklearn.decomposition import LatentDirichletAllocation\n",
        "import scipy.stats as stats\n",
        "from nltk.tokenize import word_tokenize\n",
        "from rapidfuzz import process, fuzz\n",
        "import nltk\n",
        "from nltk.corpus import stopwords\n",
        "import re\n",
        "nltk.download('punkt_tab')\n",
        "nltk.download('stopwords')\n",
        "from nltk.stem import WordNetLemmatizer\n",
        "\n",
        "nltk.download('wordnet')"
      ],
      "metadata": {
        "colab": {
          "base_uri": "https://localhost:8080/"
        },
        "id": "wC47POSHu4ge",
        "outputId": "b0e9d498-829f-496b-cc16-1d184029f372"
      },
      "execution_count": null,
      "outputs": [
        {
          "output_type": "stream",
          "name": "stdout",
          "text": [
            "Collecting rapidfuzz\n",
            "  Downloading rapidfuzz-3.13.0-cp311-cp311-manylinux_2_17_x86_64.manylinux2014_x86_64.whl.metadata (12 kB)\n",
            "Downloading rapidfuzz-3.13.0-cp311-cp311-manylinux_2_17_x86_64.manylinux2014_x86_64.whl (3.1 MB)\n",
            "\u001b[?25l   \u001b[90m━━━━━━━━━━━━━━━━━━━━━━━━━━━━━━━━━━━━━━━━\u001b[0m \u001b[32m0.0/3.1 MB\u001b[0m \u001b[31m?\u001b[0m eta \u001b[36m-:--:--\u001b[0m\r\u001b[2K   \u001b[91m━━━━━━━━━━━━━━━━━━━━━━━━\u001b[0m\u001b[91m╸\u001b[0m\u001b[90m━━━━━━━━━━━━━━━\u001b[0m \u001b[32m1.9/3.1 MB\u001b[0m \u001b[31m55.6 MB/s\u001b[0m eta \u001b[36m0:00:01\u001b[0m\r\u001b[2K   \u001b[91m━━━━━━━━━━━━━━━━━━━━━━━━━━━━━━━━━━━━━━━\u001b[0m\u001b[91m╸\u001b[0m \u001b[32m3.1/3.1 MB\u001b[0m \u001b[31m62.4 MB/s\u001b[0m eta \u001b[36m0:00:01\u001b[0m\r\u001b[2K   \u001b[90m━━━━━━━━━━━━━━━━━━━━━━━━━━━━━━━━━━━━━━━━\u001b[0m \u001b[32m3.1/3.1 MB\u001b[0m \u001b[31m36.4 MB/s\u001b[0m eta \u001b[36m0:00:00\u001b[0m\n",
            "\u001b[?25hInstalling collected packages: rapidfuzz\n",
            "Successfully installed rapidfuzz-3.13.0\n",
            "Requirement already satisfied: spacy in /usr/local/lib/python3.11/dist-packages (3.8.5)\n",
            "Requirement already satisfied: spacy-legacy<3.1.0,>=3.0.11 in /usr/local/lib/python3.11/dist-packages (from spacy) (3.0.12)\n",
            "Requirement already satisfied: spacy-loggers<2.0.0,>=1.0.0 in /usr/local/lib/python3.11/dist-packages (from spacy) (1.0.5)\n",
            "Requirement already satisfied: murmurhash<1.1.0,>=0.28.0 in /usr/local/lib/python3.11/dist-packages (from spacy) (1.0.12)\n",
            "Requirement already satisfied: cymem<2.1.0,>=2.0.2 in /usr/local/lib/python3.11/dist-packages (from spacy) (2.0.11)\n",
            "Requirement already satisfied: preshed<3.1.0,>=3.0.2 in /usr/local/lib/python3.11/dist-packages (from spacy) (3.0.9)\n",
            "Requirement already satisfied: thinc<8.4.0,>=8.3.4 in /usr/local/lib/python3.11/dist-packages (from spacy) (8.3.6)\n",
            "Requirement already satisfied: wasabi<1.2.0,>=0.9.1 in /usr/local/lib/python3.11/dist-packages (from spacy) (1.1.3)\n",
            "Requirement already satisfied: srsly<3.0.0,>=2.4.3 in /usr/local/lib/python3.11/dist-packages (from spacy) (2.5.1)\n",
            "Requirement already satisfied: catalogue<2.1.0,>=2.0.6 in /usr/local/lib/python3.11/dist-packages (from spacy) (2.0.10)\n",
            "Requirement already satisfied: weasel<0.5.0,>=0.1.0 in /usr/local/lib/python3.11/dist-packages (from spacy) (0.4.1)\n",
            "Requirement already satisfied: typer<1.0.0,>=0.3.0 in /usr/local/lib/python3.11/dist-packages (from spacy) (0.15.3)\n",
            "Requirement already satisfied: tqdm<5.0.0,>=4.38.0 in /usr/local/lib/python3.11/dist-packages (from spacy) (4.67.1)\n",
            "Requirement already satisfied: numpy>=1.19.0 in /usr/local/lib/python3.11/dist-packages (from spacy) (2.0.2)\n",
            "Requirement already satisfied: requests<3.0.0,>=2.13.0 in /usr/local/lib/python3.11/dist-packages (from spacy) (2.32.3)\n",
            "Requirement already satisfied: pydantic!=1.8,!=1.8.1,<3.0.0,>=1.7.4 in /usr/local/lib/python3.11/dist-packages (from spacy) (2.11.4)\n",
            "Requirement already satisfied: jinja2 in /usr/local/lib/python3.11/dist-packages (from spacy) (3.1.6)\n",
            "Requirement already satisfied: setuptools in /usr/local/lib/python3.11/dist-packages (from spacy) (75.2.0)\n",
            "Requirement already satisfied: packaging>=20.0 in /usr/local/lib/python3.11/dist-packages (from spacy) (24.2)\n",
            "Requirement already satisfied: langcodes<4.0.0,>=3.2.0 in /usr/local/lib/python3.11/dist-packages (from spacy) (3.5.0)\n",
            "Requirement already satisfied: language-data>=1.2 in /usr/local/lib/python3.11/dist-packages (from langcodes<4.0.0,>=3.2.0->spacy) (1.3.0)\n",
            "Requirement already satisfied: annotated-types>=0.6.0 in /usr/local/lib/python3.11/dist-packages (from pydantic!=1.8,!=1.8.1,<3.0.0,>=1.7.4->spacy) (0.7.0)\n",
            "Requirement already satisfied: pydantic-core==2.33.2 in /usr/local/lib/python3.11/dist-packages (from pydantic!=1.8,!=1.8.1,<3.0.0,>=1.7.4->spacy) (2.33.2)\n",
            "Requirement already satisfied: typing-extensions>=4.12.2 in /usr/local/lib/python3.11/dist-packages (from pydantic!=1.8,!=1.8.1,<3.0.0,>=1.7.4->spacy) (4.13.2)\n",
            "Requirement already satisfied: typing-inspection>=0.4.0 in /usr/local/lib/python3.11/dist-packages (from pydantic!=1.8,!=1.8.1,<3.0.0,>=1.7.4->spacy) (0.4.0)\n",
            "Requirement already satisfied: charset-normalizer<4,>=2 in /usr/local/lib/python3.11/dist-packages (from requests<3.0.0,>=2.13.0->spacy) (3.4.2)\n",
            "Requirement already satisfied: idna<4,>=2.5 in /usr/local/lib/python3.11/dist-packages (from requests<3.0.0,>=2.13.0->spacy) (3.10)\n",
            "Requirement already satisfied: urllib3<3,>=1.21.1 in /usr/local/lib/python3.11/dist-packages (from requests<3.0.0,>=2.13.0->spacy) (2.4.0)\n",
            "Requirement already satisfied: certifi>=2017.4.17 in /usr/local/lib/python3.11/dist-packages (from requests<3.0.0,>=2.13.0->spacy) (2025.4.26)\n",
            "Requirement already satisfied: blis<1.4.0,>=1.3.0 in /usr/local/lib/python3.11/dist-packages (from thinc<8.4.0,>=8.3.4->spacy) (1.3.0)\n",
            "Requirement already satisfied: confection<1.0.0,>=0.0.1 in /usr/local/lib/python3.11/dist-packages (from thinc<8.4.0,>=8.3.4->spacy) (0.1.5)\n",
            "Requirement already satisfied: click>=8.0.0 in /usr/local/lib/python3.11/dist-packages (from typer<1.0.0,>=0.3.0->spacy) (8.2.0)\n",
            "Requirement already satisfied: shellingham>=1.3.0 in /usr/local/lib/python3.11/dist-packages (from typer<1.0.0,>=0.3.0->spacy) (1.5.4)\n",
            "Requirement already satisfied: rich>=10.11.0 in /usr/local/lib/python3.11/dist-packages (from typer<1.0.0,>=0.3.0->spacy) (13.9.4)\n",
            "Requirement already satisfied: cloudpathlib<1.0.0,>=0.7.0 in /usr/local/lib/python3.11/dist-packages (from weasel<0.5.0,>=0.1.0->spacy) (0.21.0)\n",
            "Requirement already satisfied: smart-open<8.0.0,>=5.2.1 in /usr/local/lib/python3.11/dist-packages (from weasel<0.5.0,>=0.1.0->spacy) (7.1.0)\n",
            "Requirement already satisfied: MarkupSafe>=2.0 in /usr/local/lib/python3.11/dist-packages (from jinja2->spacy) (3.0.2)\n",
            "Requirement already satisfied: marisa-trie>=1.1.0 in /usr/local/lib/python3.11/dist-packages (from language-data>=1.2->langcodes<4.0.0,>=3.2.0->spacy) (1.2.1)\n",
            "Requirement already satisfied: markdown-it-py>=2.2.0 in /usr/local/lib/python3.11/dist-packages (from rich>=10.11.0->typer<1.0.0,>=0.3.0->spacy) (3.0.0)\n",
            "Requirement already satisfied: pygments<3.0.0,>=2.13.0 in /usr/local/lib/python3.11/dist-packages (from rich>=10.11.0->typer<1.0.0,>=0.3.0->spacy) (2.19.1)\n",
            "Requirement already satisfied: wrapt in /usr/local/lib/python3.11/dist-packages (from smart-open<8.0.0,>=5.2.1->weasel<0.5.0,>=0.1.0->spacy) (1.17.2)\n",
            "Requirement already satisfied: mdurl~=0.1 in /usr/local/lib/python3.11/dist-packages (from markdown-it-py>=2.2.0->rich>=10.11.0->typer<1.0.0,>=0.3.0->spacy) (0.1.2)\n"
          ]
        }
      ]
    },
    {
      "cell_type": "markdown",
      "source": [
        "# 2. DATA UNDERSTANDING\n",
        "\n",
        "## DATA FROM JUNIOR SECONDARY\n"
      ],
      "metadata": {
        "id": "ijokf_OluWi3"
      }
    },
    {
      "cell_type": "code",
      "source": [
        "#load datasets\n",
        "#paths to datasets\n",
        "js1=pd.read_excel('/content/drive/MyDrive/Research on teachers Efficacy on Digital resources/JS Data/FGD-JS.xlsx')\n",
        "js2=pd.read_excel('/content/drive/MyDrive/Research on teachers Efficacy on Digital resources/JS Data/HoI-JS.xlsx')\n",
        "js3=pd.read_excel('/content/drive/MyDrive/Research on teachers Efficacy on Digital resources/JS Data/LO - JS .xlsx')\n",
        "questions=pd.read_excel(\"/content/drive/MyDrive/Research on teachers Efficacy on Digital resources/JS Data/Teachers' Questionnaire-JS.xlsx\")"
      ],
      "metadata": {
        "id": "Qt4L0kXxuheG"
      },
      "execution_count": null,
      "outputs": []
    },
    {
      "cell_type": "code",
      "source": [
        "#checking dataframes\n",
        "questions.head()"
      ],
      "metadata": {
        "id": "KNr3R0UEzqA-"
      },
      "execution_count": null,
      "outputs": []
    },
    {
      "cell_type": "code",
      "source": [
        "questions.tail()"
      ],
      "metadata": {
        "id": "vzBb0GcSztmO"
      },
      "execution_count": null,
      "outputs": []
    },
    {
      "cell_type": "code",
      "source": [
        "#checking shape\n",
        "shape=questions.shape\n",
        "print(f'Dataframe has {shape[0]} rows and {shape[1]} columns')"
      ],
      "metadata": {
        "id": "DkU7AoXYzvjW"
      },
      "execution_count": null,
      "outputs": []
    },
    {
      "cell_type": "code",
      "source": [
        "#checking datatypes\n",
        "questions.dtypes"
      ],
      "metadata": {
        "id": "mFo_W37xz6Ev"
      },
      "execution_count": null,
      "outputs": []
    },
    {
      "cell_type": "code",
      "source": [
        "#checking the columns\n",
        "questions.columns"
      ],
      "metadata": {
        "id": "wxnr5PDYyz3u"
      },
      "execution_count": null,
      "outputs": []
    },
    {
      "cell_type": "code",
      "source": [
        "#CHECKING NULL VALUES\n",
        "questions.isnull().sum()"
      ],
      "metadata": {
        "id": "_-9Uq3QXvW6G"
      },
      "execution_count": null,
      "outputs": []
    },
    {
      "cell_type": "markdown",
      "source": [
        "### filling null values\n",
        "- fill this columns with mean ['1. Have you been observed in class (for this research)','6. Teaching experience?','8. How many lessons do you teach per week?','If YES, for how many times?']\n",
        "- fill with mode ['1. Have you been observed in class (for this research)','7. Highest level of academic qualification:','9. Employer:','10. Have you undergone any teacher professional development training?','Statement [1. I source for digital resources to use during my lesson]','Statement [2. I collaborate with colleagues in sourcing for digital resources]','Statement [3. I develop digital resources for use during the lessons]']\n",
        "- columns for research ['4.a. Type of school: Category of school\t5', '4.b. Type of school: Nature of school']"
      ],
      "metadata": {
        "id": "oDWvYqIP0-QO"
      }
    },
    {
      "cell_type": "code",
      "source": [
        "mode_value = questions['1. Have you been observed in class (for this  research) '].mode()[0]\n",
        "questions['1. Have you been observed in class (for this  research) '] = questions['1. Have you been observed in class (for this  research) '].fillna(mode_value)"
      ],
      "metadata": {
        "id": "nkRPIo6Zy2tP"
      },
      "execution_count": null,
      "outputs": []
    },
    {
      "cell_type": "code",
      "source": [
        "#checking\n",
        "questions['1. Have you been observed in class (for this  research) '].isna().sum()"
      ],
      "metadata": {
        "id": "W8oQbXM73HdY"
      },
      "execution_count": null,
      "outputs": []
    },
    {
      "cell_type": "code",
      "source": [
        "#using name of school to fill its geographical location\n",
        "geog= questions[['2.a. Name of School ', '2.b. County', '2.c. Sub-County']]\n",
        "geog.head()"
      ],
      "metadata": {
        "id": "mfEg2M6B3LSx"
      },
      "execution_count": null,
      "outputs": []
    },
    {
      "cell_type": "code",
      "source": [
        "# Show all rows with at least one null value\n",
        "missing=geog[geog.isnull().any(axis=1)]\n",
        "#unique schools with missing geographical location\n",
        "missing['2.a. Name of School '].unique()"
      ],
      "metadata": {
        "id": "vQuKK3cs3lxv"
      },
      "execution_count": null,
      "outputs": []
    },
    {
      "cell_type": "code",
      "source": [
        "#filling null values in school geographical columns\n",
        "# Mapping of schools to their correct county and sub-county\n",
        "schools = ['Sheikh Khalifa jss ', 'Kapsabet Girls ', \"St. Patrick's Val\", 'Mikindani primary ', 'Munanda ']\n",
        "counties = ['Mombasa', 'Nandi', 'Homa Bay', 'Mombasa', 'Nakuru']\n",
        "sub_counties = ['Nyali', 'Nandi Central', 'Rangwe', 'Changamwe', 'Gilgil']\n",
        "\n",
        "county_map = dict(zip(schools, counties))\n",
        "subcounty_map = dict(zip(schools, sub_counties))\n",
        "\n",
        "# Fill missing values for the relevant schools\n",
        "for school in schools:\n",
        "    mask = questions['2.a. Name of School '] == school\n",
        "\n",
        "    # Only fill where values are currently null\n",
        "    questions.loc[mask & questions['2.b. County'].isnull(), '2.b. County'] = county_map[school]\n",
        "    questions.loc[mask & questions['2.c. Sub-County'].isnull(), '2.c. Sub-County'] = subcounty_map[school]"
      ],
      "metadata": {
        "id": "ciRMEPnz3br_"
      },
      "execution_count": null,
      "outputs": []
    },
    {
      "cell_type": "code",
      "source": [
        "#checking\n",
        "questions[['2.a. Name of School ', '2.b. County', '2.c. Sub-County']].isna().sum()"
      ],
      "metadata": {
        "id": "c5KHxQ8WBSvr"
      },
      "execution_count": null,
      "outputs": []
    },
    {
      "cell_type": "markdown",
      "source": [
        "- dealth with all null values"
      ],
      "metadata": {
        "id": "joRyF-5TBaU6"
      }
    },
    {
      "cell_type": "code",
      "source": [
        "nature=questions[['2.a. Name of School ', '3. Gender',\n",
        "       '4.a. Type of school: Category of school ',\n",
        "       '4.b. Type of school: Nature of school ']]\n",
        "nature.head()"
      ],
      "metadata": {
        "id": "77P2riwCBZQ8"
      },
      "execution_count": null,
      "outputs": []
    },
    {
      "cell_type": "code",
      "source": [
        "nature.isna().sum()"
      ],
      "metadata": {
        "id": "chHssvIKC1Kj"
      },
      "execution_count": null,
      "outputs": []
    },
    {
      "cell_type": "code",
      "source": [
        "questions['4.b. Type of school: Nature of school '] = questions['4.b. Type of school: Nature of school '].fillna('Regular')\n",
        "questions['4.a. Type of school: Category of school '] = questions['4.a. Type of school: Category of school '].fillna('Public')\n",
        "questions['3. Gender'] = questions['3. Gender'].fillna('Male')"
      ],
      "metadata": {
        "id": "Wk5rHOxNCSyf"
      },
      "execution_count": null,
      "outputs": []
    },
    {
      "cell_type": "code",
      "source": [
        "#checking\n",
        "nature=questions[['2.a. Name of School ', '3. Gender',\n",
        "       '4.a. Type of school: Category of school ',\n",
        "       '4.b. Type of school: Nature of school ']]\n",
        "nature.isna().sum()"
      ],
      "metadata": {
        "id": "fajftw7eCBIS"
      },
      "execution_count": null,
      "outputs": []
    },
    {
      "cell_type": "markdown",
      "source": [
        "- Dealt with all null values"
      ],
      "metadata": {
        "id": "92Y5VooLDe_p"
      }
    },
    {
      "cell_type": "code",
      "source": [
        "questions['6. Teaching experience? '] = questions['6. Teaching experience? '].fillna('5 years and below  ')\n",
        "questions['7. Highest level of academic qualification: '] = questions['7. Highest level of academic qualification: '].fillna('Degree  ')\n",
        "questions['8. How many lessons do you teach per week? '] = questions['8. How many lessons do you teach per week? '].fillna(28)\n",
        "questions['9. Employer:'] = questions['9. Employer:'].fillna('TSC')\n",
        "questions['10. Have you undergone any teacher professional development training? '] = questions['10. Have you undergone any teacher professional development training? '].fillna('Yes')\n",
        "questions['If YES, for how many times? '] = questions['If YES, for how many times? '].fillna('More than three times')"
      ],
      "metadata": {
        "id": "0GiW9YzcCJZP"
      },
      "execution_count": null,
      "outputs": []
    },
    {
      "cell_type": "code",
      "source": [
        "questions['If YES, for how many times? '] = questions['If YES, for how many times? '].fillna('More than three times')\n"
      ],
      "metadata": {
        "id": "eTrl8en2D4Ey"
      },
      "execution_count": null,
      "outputs": []
    },
    {
      "cell_type": "code",
      "source": [
        "columns = [\n",
        "    'Statement  [1. I source for digital resources to use during my lesson]',\n",
        "    'Statement  [2. I collaborate with colleagues in sourcing for digital resources]',\n",
        "    'Statement  [3. I develop digital resources for use during the lessons]',\n",
        "    'Statement  [4. I try-out the digital resources before the lessons]',\n",
        "    'Statement  [5. The school provides adequate digital tools for use in the lessons]',\n",
        "    'Statement  [6. The school administration supports me to use digital resources for learning]',\n",
        "    'Statement  [7. The professional development opportunities provided enhance my knowledge and skills in using digital resources]',\n",
        "    'Statement [8. I give all learners equal opportunities in the use of the digital resources]',\n",
        "    'Statement [9. I ask learners questions to guide learners’ interaction with the digital resources]',\n",
        "    'Statement [10. I engage my learners in group discussions to share their ideas with their peers as they interact with the digital resources]',\n",
        "    'Statement [11. I encourage learners to ask questions on the concepts developed using the digital resources]',\n",
        "    'Statement [12. I give learners enough time to interact with digital resources]',\n",
        "    'Statement [13. I give learners assignments on concepts learned using  the digital resources]',\n",
        "    'Statement [14. I use digital resources   to assess learning]',\n",
        "    '15. Which digital resources do you commonly use in your lessons? \\na) Hardware:',\n",
        "    '15. Which digital resources do you commonly use in your lessons? \\nb)  Software (Apps/videos/animation/simulations/virtual labs/Audio etc.):',\n",
        "    '16.  How has the use of digital resources influenced my teaching practices?  ',\n",
        "    '17. What type of support do you receive from the school leadership in the use of digital resources? ',\n",
        "    '18. (a)  Briefly explain how teacher  professional development has helped you in the use digital resources ',\n",
        "    '18. (b)  Suggest training needs to be addressed on the use of digital resources in future Teacher Professional Development program '\n",
        "]\n",
        "\n",
        "for col in columns:\n",
        "    if questions[col].dtype in ['float64', 'int64']:\n",
        "        mean_val = questions[col].mean()\n",
        "        questions[col] = questions[col].fillna(mean_val)\n",
        "    elif questions[col].dtype == 'O':  # object (string/categorical)\n",
        "        mode_val = questions[col].mode()[0]  # mode() returns a Series\n",
        "        questions[col] = questions[col].fillna(mode_val)\n",
        "    else:\n",
        "        # If the dtype is something else, you can add more logic or skip\n",
        "        pass\n",
        "\n",
        "# Optional: Check that missing values have been filled\n",
        "questions[columns].isnull().sum()"
      ],
      "metadata": {
        "id": "CEb2MaHZDzAW"
      },
      "execution_count": null,
      "outputs": []
    },
    {
      "cell_type": "markdown",
      "source": [
        "- Dealt with all null values"
      ],
      "metadata": {
        "id": "sK48XkvMGo8P"
      }
    },
    {
      "cell_type": "code",
      "source": [
        "#saving cleaned dataframe as questionnaire_cleaned\n",
        "questionnaire_cleaned = questions.copy()\n",
        "#saving it as an excel file\n",
        "questionnaire_cleaned.to_excel('questionnaire_cleaned.xlsx', index=False)"
      ],
      "metadata": {
        "id": "4UTl3ismGrJr"
      },
      "execution_count": null,
      "outputs": []
    },
    {
      "cell_type": "markdown",
      "source": [
        "## SECOND DATAFRAME"
      ],
      "metadata": {
        "id": "TmIad0hhHNBx"
      }
    },
    {
      "cell_type": "code",
      "source": [
        "js1.head()"
      ],
      "metadata": {
        "id": "c6O1RIkoHQeg"
      },
      "execution_count": null,
      "outputs": []
    },
    {
      "cell_type": "code",
      "source": [
        "js1.tail()"
      ],
      "metadata": {
        "id": "Wi8SpTyHHYIj"
      },
      "execution_count": null,
      "outputs": []
    },
    {
      "cell_type": "code",
      "source": [
        "#checking the shape\n",
        "shape=js1.shape\n",
        "print(f'Dataframe has {shape[0]} rows and {shape[1]} columns')"
      ],
      "metadata": {
        "id": "MVW_kAriHZIr"
      },
      "execution_count": null,
      "outputs": []
    },
    {
      "cell_type": "code",
      "source": [
        "#checking columns\n",
        "js1.columns"
      ],
      "metadata": {
        "id": "-XdiegdOHb07"
      },
      "execution_count": null,
      "outputs": []
    },
    {
      "cell_type": "code",
      "source": [
        "#checking null values\n",
        "js1.isna().sum()"
      ],
      "metadata": {
        "id": "9-Bmgb09Hk6W"
      },
      "execution_count": null,
      "outputs": []
    },
    {
      "cell_type": "markdown",
      "source": [
        "- Only one column has a null value\n",
        "NEXT STEPS:\n",
        "- Checking nature of null values"
      ],
      "metadata": {
        "id": "uTzB8FGMHqR2"
      }
    },
    {
      "cell_type": "code",
      "source": [
        "#column with null value\n",
        "missing=js1[ '4. Does your teacher allow you to interact with digital resources? (Probe on the mode of interaction with digital resources)  ']"
      ],
      "metadata": {
        "id": "vATKKdtaHoRL"
      },
      "execution_count": null,
      "outputs": []
    },
    {
      "cell_type": "code",
      "source": [
        "#unique values in column\n",
        "missing.unique()"
      ],
      "metadata": {
        "id": "Qh9xp13iH6uS"
      },
      "execution_count": null,
      "outputs": []
    },
    {
      "cell_type": "markdown",
      "source": [
        "- open-ended question\n",
        "- drop row with null value"
      ],
      "metadata": {
        "id": "hQPymfnBIDVC"
      }
    },
    {
      "cell_type": "code",
      "source": [
        "#drop row with null value in dataframe\n",
        "js1.dropna(inplace=True)"
      ],
      "metadata": {
        "id": "nVPP_jg4IJPN"
      },
      "execution_count": null,
      "outputs": []
    },
    {
      "cell_type": "code",
      "source": [
        "#checking\n",
        "js1.isna().sum()"
      ],
      "metadata": {
        "id": "jVLAXxjxIOhE"
      },
      "execution_count": null,
      "outputs": []
    },
    {
      "cell_type": "code",
      "source": [
        "#saving cleaned dataframe as questionnaire_cleaned\n",
        "FGD_JS_cleaned = js1.copy()\n",
        "#saving it as an excel file\n",
        "FGD_JS_cleaned.to_excel('FGD_JS_cleaned.xlsx', index=False)\n"
      ],
      "metadata": {
        "id": "ANT0TGFxIRfp"
      },
      "execution_count": null,
      "outputs": []
    },
    {
      "cell_type": "markdown",
      "source": [
        "### NEXT DATFRAME"
      ],
      "metadata": {
        "id": "c0BK4GOTI-5M"
      }
    },
    {
      "cell_type": "code",
      "source": [
        "js2.head()"
      ],
      "metadata": {
        "id": "i8nM3f-6JBD-"
      },
      "execution_count": null,
      "outputs": []
    },
    {
      "cell_type": "code",
      "source": [
        "js2.tail()"
      ],
      "metadata": {
        "id": "yXwzPtyWJCxE"
      },
      "execution_count": null,
      "outputs": []
    },
    {
      "cell_type": "code",
      "source": [
        "#checking shape\n",
        "shape=js2.shape\n",
        "print(f'Dataframe has {shape[0]} rows and {shape[1]} columns')"
      ],
      "metadata": {
        "id": "EhyPfBQhJEPg"
      },
      "execution_count": null,
      "outputs": []
    },
    {
      "cell_type": "code",
      "source": [
        "js2['3.b. Type of school:']"
      ],
      "metadata": {
        "id": "lBC_rQf0Ka-r"
      },
      "execution_count": null,
      "outputs": []
    },
    {
      "cell_type": "code",
      "source": [
        "#checking columns\n",
        "js2.columns\n"
      ],
      "metadata": {
        "id": "LqweO0vQJQs_"
      },
      "execution_count": null,
      "outputs": []
    },
    {
      "cell_type": "code",
      "source": [
        "#checking null values\n",
        "js2.isna().sum()"
      ],
      "metadata": {
        "id": "gsGwCj8aJJTE"
      },
      "execution_count": null,
      "outputs": []
    },
    {
      "cell_type": "code",
      "source": [
        "#drop rows with null values\n",
        "js2.dropna(inplace=True)"
      ],
      "metadata": {
        "id": "JNS3HBJUJeNa"
      },
      "execution_count": null,
      "outputs": []
    },
    {
      "cell_type": "code",
      "source": [
        "#checking\n",
        "js2.isna().sum()"
      ],
      "metadata": {
        "id": "QWr_hNLdOUhw"
      },
      "execution_count": null,
      "outputs": []
    },
    {
      "cell_type": "code",
      "source": [
        "#saving cleaned dataframe\n",
        "HoI_JS_cleaned = js2.copy()\n",
        "#saving it as an excel file\n",
        "HoI_JS_cleaned.to_excel('HoI_JS_cleaned.xlsx', index=False)"
      ],
      "metadata": {
        "id": "nC67x7X-OW0X"
      },
      "execution_count": null,
      "outputs": []
    },
    {
      "cell_type": "markdown",
      "source": [
        "## NEXT DATAFRAME"
      ],
      "metadata": {
        "id": "WfWjZUU7Omcd"
      }
    },
    {
      "cell_type": "code",
      "source": [
        "js3.head()"
      ],
      "metadata": {
        "id": "9f2SGFyNOkDv"
      },
      "execution_count": null,
      "outputs": []
    },
    {
      "cell_type": "code",
      "source": [
        "js3.tail()"
      ],
      "metadata": {
        "id": "qQNiLXn9OpYk"
      },
      "execution_count": null,
      "outputs": []
    },
    {
      "cell_type": "code",
      "source": [
        "#shape\n",
        "shape=js3.shape\n",
        "print(f'Dataframe has {shape[0]} rows and {shape[1]} columns')"
      ],
      "metadata": {
        "id": "fNFAZIGWOqql"
      },
      "execution_count": null,
      "outputs": []
    },
    {
      "cell_type": "code",
      "source": [
        "#columns\n",
        "js3.columns"
      ],
      "metadata": {
        "id": "xe7LyFUeOyj5"
      },
      "execution_count": null,
      "outputs": []
    },
    {
      "cell_type": "code",
      "source": [
        "#drop null values in this columns['1.a. School', '1.b. County', '1.c. Sub-County']\n",
        "js3.dropna(subset=['1.a. School', '1.b. County', '1.c. Sub-County'], inplace=True)"
      ],
      "metadata": {
        "id": "IuRh3pScPplU"
      },
      "execution_count": null,
      "outputs": []
    },
    {
      "cell_type": "code",
      "source": [
        "# #unique values in column\n",
        "js3['16. Key Inquiry Question (KIQ) '].value_counts()"
      ],
      "metadata": {
        "id": "qBLBGNSMPf6h"
      },
      "execution_count": null,
      "outputs": []
    },
    {
      "cell_type": "code",
      "source": [
        "#filling columns\n",
        "js3[ '16. Key Inquiry Question (KIQ) '] = js3[ '16. Key Inquiry Question (KIQ) '].fillna('none')"
      ],
      "metadata": {
        "id": "M1gpL5_0Ph1C"
      },
      "execution_count": null,
      "outputs": []
    },
    {
      "cell_type": "code",
      "source": [
        "#checking null values\n",
        "js3.isna().sum()"
      ],
      "metadata": {
        "id": "ZuUo_qFxO0ZA"
      },
      "execution_count": null,
      "outputs": []
    },
    {
      "cell_type": "code",
      "source": [
        "#shape\n",
        "shape=js3.shape\n",
        "print(f'Dataframe has {shape[0]} rows and {shape[1]} columns')"
      ],
      "metadata": {
        "id": "RH6loCfbPPdv"
      },
      "execution_count": null,
      "outputs": []
    },
    {
      "cell_type": "code",
      "source": [
        "#dropping null values\n",
        "js3.dropna(inplace=True)\n",
        "shape=js3.shape\n",
        "print(f'Dataframe has {shape[0]} rows and {shape[1]} columns')"
      ],
      "metadata": {
        "id": "XmcHrJxqQi10"
      },
      "execution_count": null,
      "outputs": []
    },
    {
      "cell_type": "code",
      "source": [
        "#saving\n",
        "LO_JS_cleaned = js3.copy()\n",
        "#saving it as an excel file\n",
        "LO_JS_cleaned.to_excel('LO_JS_cleaned.xlsx', index=False)"
      ],
      "metadata": {
        "id": "Y9UGValqQnoL"
      },
      "execution_count": null,
      "outputs": []
    },
    {
      "cell_type": "markdown",
      "source": [
        "- Through with JSS now onto Senior School Dataframes"
      ],
      "metadata": {
        "id": "guikcXzgQw0k"
      }
    },
    {
      "cell_type": "markdown",
      "source": [
        "# SENIOR SCHOOL DATAFRAME"
      ],
      "metadata": {
        "id": "Xsuz5dFBQvUq"
      }
    },
    {
      "cell_type": "code",
      "source": [
        "# loading datasets\n",
        "ss1=pd.read_excel('/content/drive/MyDrive/Research on teachers Efficacy on Digital resources/SS Data/FGD-Sec.xlsx')\n",
        "ss2=pd.read_excel('/content/drive/MyDrive/Research on teachers Efficacy on Digital resources/SS Data/HoI - Sec.xlsx')\n",
        "ss3=pd.read_excel('/content/drive/MyDrive/Research on teachers Efficacy on Digital resources/SS Data/LO - Sec.xlsx')\n",
        "ss_questions=pd.read_excel(\"/content/drive/MyDrive/Research on teachers Efficacy on Digital resources/SS Data/Teacher Questionnaire-Sec Schl.xlsx\")"
      ],
      "metadata": {
        "id": "Yf46XO_eQ8Ar"
      },
      "execution_count": null,
      "outputs": []
    },
    {
      "cell_type": "markdown",
      "source": [
        "- First Dataframe"
      ],
      "metadata": {
        "id": "xN45jK4NRXnW"
      }
    },
    {
      "cell_type": "code",
      "source": [
        "ss1.head()"
      ],
      "metadata": {
        "id": "PWKuhML7RWu1"
      },
      "execution_count": null,
      "outputs": []
    },
    {
      "cell_type": "code",
      "source": [
        "ss1.tail()"
      ],
      "metadata": {
        "id": "g25ZSvnYRdvK"
      },
      "execution_count": null,
      "outputs": []
    },
    {
      "cell_type": "code",
      "source": [
        "#shape\n",
        "shape=ss1.shape\n",
        "print(f'Dataframe has {shape[0]} rows and {shape[1]} columns')"
      ],
      "metadata": {
        "id": "Ji3-oy69Re2u"
      },
      "execution_count": null,
      "outputs": []
    },
    {
      "cell_type": "code",
      "source": [
        "# columns\n",
        "ss1.columns"
      ],
      "metadata": {
        "id": "a0RK-CITRjMn"
      },
      "execution_count": null,
      "outputs": []
    },
    {
      "cell_type": "code",
      "source": [
        "#null values\n",
        "ss1.isna().sum()"
      ],
      "metadata": {
        "id": "v7Ppm-EwRliF"
      },
      "execution_count": null,
      "outputs": []
    },
    {
      "cell_type": "markdown",
      "source": [
        "## DATA CLEANING\n",
        "\n",
        "1. COLUMN CONSISTENCY"
      ],
      "metadata": {
        "id": "3YbjrB7zUCov"
      }
    },
    {
      "cell_type": "code",
      "source": [
        "js1=pd.read_excel('FGD_JS_cleaned.xlsx')\n",
        "js2=pd.read_excel('HoI_JS_cleaned.xlsx')\n",
        "js3=pd.read_excel('LO_JS_cleaned.xlsx')\n",
        "questions=pd.read_excel('questionnaire_cleaned.xlsx')"
      ],
      "metadata": {
        "id": "pwmakTrYUEzv"
      },
      "execution_count": null,
      "outputs": []
    },
    {
      "cell_type": "code",
      "source": [
        "js1.head()"
      ],
      "metadata": {
        "id": "zhCWvAPiVIYZ"
      },
      "execution_count": null,
      "outputs": []
    },
    {
      "cell_type": "code",
      "source": [
        "js1.columns"
      ],
      "metadata": {
        "id": "Stzb6SyfVKBL"
      },
      "execution_count": null,
      "outputs": []
    },
    {
      "cell_type": "code",
      "source": [
        "# ensuring column consistency\n",
        "rename_dict = {\n",
        "    '1.  Name some of the digital resources your teachers use to teach integrated science, Mathematics, Pre-technical, and Agriculture, Physics, Biology or Chemistry lessons.': 'Digital resources used by teachers',\n",
        "    '2. Tell me some specific lesson(s) you were taught using digital resources. (Probe  the specific content area in Integrated science, Mathematics, Pre-technical, and Agriculture/ Physics, Biology or Chemistry) ': 'Lessons taught using digital resources',\n",
        "    '3. How often are digital resources used during your Science or mathematics lessons?(To probe how many lessons, digital resources have been used, in this term-  Science, mathematics, Pre-technical, and Agriculture, Physics, Biology or Chemistry lessons) ': 'Frequency of digital resource use in lessons',\n",
        "    '4. Does your teacher allow you to interact with digital resources? (Probe on the mode of interaction with digital resources)  ': 'Student interaction with digital resources',\n",
        "    '5.a. How do you feel when your teacher uses digital resources in the lesson? (Probe for interest, or easy understanding) ': 'Student feelings when teacher uses digital resources',\n",
        "    '5.b.  Can you share an example of a digital resource that made the lesson exciting, enjoyable, or easier to understand? (Probe for Integrated science, mathematics,  pre-technical, and Agriculture, Physics, Biology or Chemistry)': 'Example of effective digital resource in lesson',\n",
        "    '6. Does your teacher give you assignments on the main idea learnt when using digital resources in a lesson? (If YES, explain how the assignment help you to recall the learnt idea)': 'Assignments based on digital resource lessons'\n",
        "}\n",
        "\n",
        "js1 = js1.rename(columns=rename_dict)"
      ],
      "metadata": {
        "id": "zL8ulPSJVgaX"
      },
      "execution_count": null,
      "outputs": []
    },
    {
      "cell_type": "code",
      "source": [
        "#checking\n",
        "js1.columns"
      ],
      "metadata": {
        "id": "St_cKdDabxHQ"
      },
      "execution_count": null,
      "outputs": []
    },
    {
      "cell_type": "code",
      "source": [
        "#checking datatypes\n",
        "js1.dtypes"
      ],
      "metadata": {
        "id": "BudYzADubyhR"
      },
      "execution_count": null,
      "outputs": []
    },
    {
      "cell_type": "code",
      "source": [
        "js1.head()"
      ],
      "metadata": {
        "id": "GZO89nLFb60L"
      },
      "execution_count": null,
      "outputs": []
    },
    {
      "cell_type": "markdown",
      "source": [
        "- JS2"
      ],
      "metadata": {
        "id": "vQTSK2FzcDoe"
      }
    },
    {
      "cell_type": "code",
      "source": [
        "js2.head()"
      ],
      "metadata": {
        "id": "qB3tyYE7b_XJ"
      },
      "execution_count": null,
      "outputs": []
    },
    {
      "cell_type": "code",
      "source": [
        "js2.columns"
      ],
      "metadata": {
        "id": "vgAKhTPycLKV"
      },
      "execution_count": null,
      "outputs": []
    },
    {
      "cell_type": "code",
      "source": [
        "#renaming columns\n",
        "rename_dict = {\n",
        "    '5. For how long have you been a Head of Institution?': 'Tenure as Head of Institution',\n",
        "    '6.a. Do your STEM teachers participate in professional development  training related to their subjects?': 'STEM teacher participation in professional development',\n",
        "    '6.b. Probe on how often  this happens and the kind of training': 'Frequency and type of STEM teacher training',\n",
        "    '7.a. Do you feel the training opportunities adequately equip teachers with the skills to use digital Resources in STEM effectively?': 'Adequacy of training for digital resource use in STEM',\n",
        "    '7.b. Probe for why or why not': 'Reasoning for adequacy or inadequacy of training',\n",
        "    '8. What measures do you have in place to ensure teachers are updated with the current digital resources for STEM?  ( Probe about AI, virtual labs among others)': 'Measures to keep teachers updated on digital resources',\n",
        "    '9.a. Do your STEM teachers incorporate digital resources in their lessons?': 'STEM teacher incorporation of digital resources',\n",
        "    '9.b. (Probe on frequency and cite instances) (In your opinion, how confident are your teachers in using technology and digital resources in their teaching)': 'Frequency and confidence in technology use by teachers',\n",
        "    '10. Give examples of digital resources your teachers commonly use in STEM classes? (Probe on both hardware (laptop, projectors) and software (phet))': 'Examples of digital resources used in STEM classes',\n",
        "    '11.a. Do you evaluate the use of digital resources in the classroom?': 'Evaluation of digital resource use in classroom',\n",
        "    '11.b. Probe on how': 'Methods of evaluating digital resource use',\n",
        "    '12. What challenges do your teachers face when integrating digital resources into their STEM lessons?(Probe on any areas that teachers need support)': 'Challenges faced by teachers integrating digital resources',\n",
        "    '13. How are you addressing the challenges identified above in order to enhance the teacher efficacy? (probe on  technical assistance, maintenance and replacement of digital equipment funding for resources)': 'Measures to address challenges in digital resource integration',\n",
        "    '14.What is your schools’ policy on use of digital resources in teaching and learning?(Probes on any guidelines/vision on the use of digital resources (phones))': 'School policy on digital resource use'\n",
        "}\n",
        "\n",
        "# To rename in your DataFrame, for example if it is called `heads`:\n",
        "js2 = js2.rename(columns=rename_dict)"
      ],
      "metadata": {
        "id": "HFTmQyWHcQLI"
      },
      "execution_count": null,
      "outputs": []
    },
    {
      "cell_type": "code",
      "source": [
        "#checking\n",
        "js2.columns"
      ],
      "metadata": {
        "id": "KW1NGZjlcs4Q"
      },
      "execution_count": null,
      "outputs": []
    },
    {
      "cell_type": "markdown",
      "source": [
        "- THIRD DATAFRAME"
      ],
      "metadata": {
        "id": "cfBs-BxFczK0"
      }
    },
    {
      "cell_type": "code",
      "source": [
        "js3.head()"
      ],
      "metadata": {
        "id": "bLsfJJUNc1IP"
      },
      "execution_count": null,
      "outputs": []
    },
    {
      "cell_type": "code",
      "source": [
        "js3.columns"
      ],
      "metadata": {
        "id": "4LmfQh-0c7Ok"
      },
      "execution_count": null,
      "outputs": []
    },
    {
      "cell_type": "code",
      "source": [
        "#standardizing columns\n",
        "rename_dict = {\n",
        "    '6.1. Teaching subjects trained in (College subjects): ': 'Teaching subjects trained (1)',\n",
        "    '6.2. Teaching subjects trained in (College subjects):  ': 'Teaching subjects trained (2)',\n",
        "    '7. Employer ': 'Employer',\n",
        "    '8. Have you attended any teacher training in STEM? ': 'Attended STEM teacher training',\n",
        "    '9. If yes, how many times have you undergone the training? ': 'Number of STEM trainings attended',\n",
        "    '10. Grade/Form': 'Grade or Form',\n",
        "    'JS/SS': 'School Level (JS/SS)',\n",
        "    '11. Subject ': 'Subject',\n",
        "    '12. Strand/Topic ': 'Strand or Topic',\n",
        "    '13. Sub-strand/Sub-Topic ': 'Sub-strand or Sub-Topic',\n",
        "    '14. Number of Learners: Total ': 'Total learners',\n",
        "    '15. Lesson Learning outcomes ': 'Lesson learning outcomes',\n",
        "    'Learning Resources ': 'Learning resources',\n",
        "    '16. Key Inquiry Question (KIQ) ': 'Key Inquiry Question (KIQ)',\n",
        "    'Statements  [1. The teacher had a scheme of work]': 'Teacher had scheme of work',\n",
        "    'Statements  [2. Did the column of resources in the Schemes of work indicate digital resources]': 'Schemes of work indicated digital resources',\n",
        "    'Statements  [3. The teacher had a lesson plan prepared as per the scheme of work]': 'Lesson plan prepared as per scheme of work',\n",
        "    'Statements  [4. Did the Lesson plan include digital resources?]': 'Lesson plan included digital resources',\n",
        "    'Statements  [5. Are the digital resources aligned to the lesson learning outcomes/objectives?]': 'Digital resources aligned to learning outcomes',\n",
        "    'Learner Engagement  [1. The teacher used digital resources to promote active participation by learners (group task, interactive tools)]': 'Teacher used digital resources for active participation',\n",
        "    'Learner Engagement  [2. Learners interacted with digital resources effectively to enhance understanding of STEM concepts (e.g., simulations, virtual labs).]': 'Learners interacted with digital resources effectively',\n",
        "    'Innovative Use of Digital Resource [3. Teacher’s creativity of integrating digital resource in the lesson was evident(e.g., using locally relevant examples, customizing software settings, contextualizing with learners’ experiences)]': 'Teacher creativity in integrating digital resources',\n",
        "    'Innovative Use of Digital Resource [4. The learners were able to relate the digital resource to their experiences. (e.g., using locally relevant examples, customizing software settings)]': 'Learners related digital resources to experiences',\n",
        "    'Innovative Use of Digital Resource [5. Digital resources were well-aligned with learning outcomes and learner’s needs (e.g., age-appropriate content, differentiated instruction).]': 'Digital resources aligned with needs and outcomes',\n",
        "    'Assessment  [6. The teacher provided timely and constructive feedback based on the learners interaction with the digital resource]': 'Teacher provided feedback on digital resource use',\n",
        "    'Assessment  [7. Learners had the opportunity to give feedback on the concept learnt based on the their interaction with the digital resource]': 'Learners provided feedback on digital resource learning',\n",
        "    'Classroom Management  [8. Teacher managed transitions in activities involving  digital resources seamlessly]': 'Teacher managed digital resource activities',\n",
        "    'Classroom Management  [9. Learners remained focused on the task, as the teacher guides or redirects their behavior]': 'Learner focus during digital resource activities',\n",
        "    'Digital Fluency [10. Teacher demonstrated proficiency in using digital resources to achieve lesson learning outcomes/objectives (e.g., confident navigation of software).]': 'Teacher proficiency with digital resources',\n",
        "    'Digital Fluency [11. Teacher resolved technical issues effectively during the lesson (e.g., troubleshooting connectivity problems-If none rate 3)]': 'Teacher resolved technical issues with digital resources',\n",
        "    '1. How prepared was the teacher in terms of accessing and utilizing digital resources? ': 'Teacher preparedness for digital resource use',\n",
        "    '2. Were there any notable challenges in using digital resources? If yes, describe them. ': 'Challenges in using digital resources',\n",
        "    '3.  Suggest area(s) in which the teacher should be supported to enhance his/her skills in the use of digital resources in the learning process': 'Suggested support areas for digital resource use'\n",
        "}\n",
        "\n",
        "# Suppose your DataFrame is called `observations`:\n",
        "js3 = js3.rename(columns=rename_dict)"
      ],
      "metadata": {
        "id": "A14h6N1vc9BT"
      },
      "execution_count": null,
      "outputs": []
    },
    {
      "cell_type": "code",
      "source": [
        "#checking\n",
        "js3.columns"
      ],
      "metadata": {
        "id": "Xhf0vdvIddLD"
      },
      "execution_count": null,
      "outputs": []
    },
    {
      "cell_type": "markdown",
      "source": [
        "- FOURTH DATAFRAME"
      ],
      "metadata": {
        "id": "cT_t-p_Ndhdt"
      }
    },
    {
      "cell_type": "code",
      "source": [
        "questions.columns"
      ],
      "metadata": {
        "id": "TEfNdGwidjn0"
      },
      "execution_count": null,
      "outputs": []
    },
    {
      "cell_type": "code",
      "source": [
        "#standardizing column names\n",
        "rename_dict = {\n",
        "    '7. Highest level of academic qualification: ': '7. Academic qualification (highest)',\n",
        "    '8. How many lessons do you teach per week? ': '8. Lessons per week',\n",
        "    '9. Employer:': '9. Employer',\n",
        "    '10. Have you undergone any teacher professional development training? ': '10. Attended professional development training',\n",
        "    'If YES, for how many times? ': 'Teacher training frequency',\n",
        "    'Statement  [1. I source for digital resources to use during my lesson]': 'Statement 1. Sources digital resources',\n",
        "    'Statement  [2. I collaborate with colleagues in sourcing for digital resources]': 'Statement 2. Collaborates in sourcing digital resources',\n",
        "    'Statement  [3. I develop digital resources for use during the lessons]': 'Statement 3. Develops digital resources',\n",
        "    'Statement  [4. I try-out the digital resources before the lessons]': 'Statement 4. Tries out digital resources before lessons',\n",
        "    'Statement  [5. The school provides adequate digital tools for use in the lessons]': 'Statement 5. School provides adequate digital tools',\n",
        "    'Statement  [6. The school administration supports me to use digital resources for learning]': 'Statement 6. School administration supports digital resources',\n",
        "    'Statement  [7. The professional development opportunities provided enhance my knowledge and skills in using digital resources]': 'Statement 7. Professional development enhances digital resource use',\n",
        "    'Statement [8. I give all learners equal opportunities in the use of the digital resources]': 'Statement 8. Equal learner opportunities with digital resources',\n",
        "    'Statement [9. I ask learners questions to guide learners’ interaction with the digital resources]': 'Statement 9. Guides learners’ interaction with questions',\n",
        "    'Statement [10. I engage my learners in group discussions to share their ideas with their peers as they interact with the digital resources]': 'Statement 10. Group discussions with digital resources',\n",
        "    'Statement [11. I encourage learners to ask questions on the concepts developed using the digital resources]': 'Statement 11. Encourages learner questions on digital resources',\n",
        "    'Statement [12. I give learners enough time to interact with digital resources]': 'Statement 12. Time for learner interaction with digital resources',\n",
        "    'Statement [13. I give learners assignments on concepts learned using  the digital resources]': 'Statement 13. Assignments on digital resources concepts',\n",
        "    'Statement [14. I use digital resources   to assess learning]': 'Statement 14. Uses digital resources to assess learning',\n",
        "    '15. Which digital resources do you commonly use in your lessons? \\na) Hardware:': '15a. Commonly used digital resources (Hardware)',\n",
        "    '15. Which digital resources do you commonly use in your lessons? \\nb)  Software (Apps/videos/animation/simulations/virtual labs/Audio etc.):': '15b. Commonly used digital resources (Software)',\n",
        "    '16.  How has the use of digital resources influenced my teaching practices?  ': '16. Influence of digital resources on teaching',\n",
        "    '17. What type of support do you receive from the school leadership in the use of digital resources? ': '17. School leadership support for digital resource use',\n",
        "    '18. (a)  Briefly explain how teacher  professional development has helped you in the use digital resources ': '18a. Impact of professional development on digital resource use',\n",
        "    '18. (b)  Suggest training needs to be addressed on the use of digital resources in future Teacher Professional Development program ': '18b. Suggested future training needs for digital resource use'\n",
        "}\n",
        "\n",
        "# Usage example (assuming your DataFrame is called `teachers`)\n",
        "questions = questions.rename(columns=rename_dict)"
      ],
      "metadata": {
        "id": "krCYPkXxdmDg"
      },
      "execution_count": null,
      "outputs": []
    },
    {
      "cell_type": "code",
      "source": [
        "#checking\n",
        "questions.columns"
      ],
      "metadata": {
        "id": "2jJNewYLiFA0"
      },
      "execution_count": null,
      "outputs": []
    },
    {
      "cell_type": "markdown",
      "source": [
        "## DATA WRANGLING\n",
        "- STANDARDIZING REPSONSES\n",
        "\n",
        "STEPS:\n",
        "\n",
        "1. **Standardize Case** - Convert all responses to lowercase to avoid duplication due to case differences.\n",
        "2. **Remove Extra Spaces and Newlines** - Remove trailing spaces, leading spaces, and newline characters.\n",
        "3. **Handle Plurals and Common Misspellings** - Normalize plurals and inconsistencies (laptops → laptop, phones → phone, etc.).\n",
        "4. **Split Composite Entries** - Break apart responses with commas or semicolons into lists (e.g., \"laptop, phone\" → [\"laptop\", \"phone\"]).\n",
        "5. **Explode to Normalize Analysis** - Convert the list into individual rows for frequency analysis.\n",
        "6. **Aggregate Cleaned Frequencies** - Now get a cleaner value_counts():\n"
      ],
      "metadata": {
        "id": "WbKiNpqgpMRz"
      }
    },
    {
      "cell_type": "markdown",
      "source": [
        "- **CREATING A CLASS TO HANDLE DATA WRANGLING**\n",
        "\n",
        "1. Features of This Class\n",
        "- Lowercases and strips whitespace\n",
        "\n",
        "- Normalizes common plurals and variants\n",
        "\n",
        "- Splits on common delimiters (, ; /)\n",
        "\n",
        "- Applies optional mappings (like synonyms)\n",
        "\n",
        "- Outputs clean, exploded rows and value counts"
      ],
      "metadata": {
        "id": "msps-bFkwEGd"
      }
    },
    {
      "cell_type": "code",
      "source": [
        "questions.columns"
      ],
      "metadata": {
        "id": "0HmtsRqLO-kb"
      },
      "execution_count": null,
      "outputs": []
    },
    {
      "cell_type": "code",
      "source": [
        "\n",
        "new={'Chemelil Sugar':'BOM',\n",
        "     'Private':'BOM',\n",
        "     'Agakhan':'BOM',\n",
        "     'School management':'BOM',\n",
        "     'Private School':'BOM',\n",
        "     'Private':'BOM',\n",
        "     'others':'BOM',\n",
        "     'others ':'BOM',\n",
        "     'employed by thes sch':'BOM',\n",
        "     'School management ':'BOM',\n",
        "     'Private ':'BOM',\n",
        "     'Not indicated\t':'TSC',\n",
        "     'Not indicated':'TSC',\n",
        "     'not indicated':'TSC',\n",
        "     'Not specified':'TSC',\n",
        "     'Not specified ':'TSC',\n",
        "     ' Not indicated':'TSC',\n",
        "     'Not Indicated':'TSC',\n",
        "     'not indicated':'TSC'\n",
        "     }\n",
        "\n",
        "questions['9. Employer']=questions['9. Employer'].replace(new)\n",
        "\n",
        "#"
      ],
      "metadata": {
        "id": "xMvYGoYxO_xr"
      },
      "execution_count": null,
      "outputs": []
    },
    {
      "cell_type": "code",
      "source": [
        "columns = [\n",
        "    'Statement 1. Sources digital resources',\n",
        "    'Statement 2. Collaborates in sourcing digital resources',\n",
        "    'Statement 3. Develops digital resources',\n",
        "    'Statement 4. Tries out digital resources before lessons',\n",
        "    'Statement 5. School provides adequate digital tools',\n",
        "    'Statement 6. School administration supports digital resources',\n",
        "    'Statement 7. Professional development enhances digital resource use',\n",
        "    'Statement 8. Equal learner opportunities with digital resources',\n",
        "    'Statement 9. Guides learners’ interaction with questions',\n",
        "    'Statement 10. Group discussions with digital resources',\n",
        "    'Statement 11. Encourages learner questions on digital resources',\n",
        "    'Statement 12. Time for learner interaction with digital resources',\n",
        "    'Statement 13. Assignments on digital resources concepts',\n",
        "    'Statement 14. Uses digital resources to assess learning'\n",
        "]\n",
        "\n",
        "new = {\n",
        "    1: 'Strongly Disagree',\n",
        "    2: 'Disagree',\n",
        "    3: 'Neutral',\n",
        "    4: 'Agree',\n",
        "    5: 'Strongly agree'\n",
        "}\n",
        "\n",
        "for col in columns:\n",
        "    questions[col] = questions[col].apply(\n",
        "        lambda x: new[round(float(x))] if isinstance(x, (int, float, str)) and str(x).replace('.', '', 1).isdigit() and round(float(x)) in new else x\n",
        "    )\n",
        "    questions[col] = questions[col].replace(new)"
      ],
      "metadata": {
        "id": "zWXRwGi9QkCP"
      },
      "execution_count": null,
      "outputs": []
    },
    {
      "cell_type": "markdown",
      "source": [
        "# JUNIOR SECONDARY QUESTIONNAIRE ANALYSIS\n",
        "- This dataset contains Teacher **Survey Responses**\n",
        "\n",
        "What It Contains:\n",
        "- Teacher demographic data: gender, age, experience, qualifications, school type.\n",
        "\n",
        "- TPD participation: whether trained, how often.\n",
        "\n",
        "- Digital practices: Likert-scale statements on behavior, planning, collaboration, usage, assessment, and classroom practices.\n",
        "\n",
        "- Open-ended reflections: personal insights on teaching impact, support, TPD experience, and training needs.\n",
        "\n",
        "- Digital tools used: hardware & software specified by teachers."
      ],
      "metadata": {
        "id": "ejZFBa87vLHt"
      }
    },
    {
      "cell_type": "code",
      "source": [
        "import matplotlib.pyplot as plt\n",
        "\n",
        "def plot_likert_statement_pie(column_name, question_text=None, palette=None, df=None):\n",
        "    if df is None:\n",
        "        raise ValueError(\"Please pass a DataFrame using the `df` parameter.\")\n",
        "\n",
        "    if question_text is None:\n",
        "        question_text = column_name\n",
        "\n",
        "    if palette is None:\n",
        "        palette = {\n",
        "            'Strongly Disagree': 'purple',\n",
        "            'Disagree': 'red',\n",
        "            'Neutral': '#fdae61',\n",
        "            'Agree': '#a6d96a',\n",
        "            'Strongly Agree': '#d73027'\n",
        "        }\n",
        "\n",
        "    categories = ['Strongly Disagree', 'Disagree', 'Neutral', 'Agree', 'Strongly Agree']\n",
        "    counts = df[column_name].value_counts().reindex(categories, fill_value=0)\n",
        "    total = counts.sum()\n",
        "    if total == 0:\n",
        "        raise ValueError(f\"No responses found for column '{column_name}'.\")\n",
        "\n",
        "    percentages = (counts / total * 100).round(1)\n",
        "    labels = [f\"{cat} ({pct:.1f}%)\" for cat, pct in zip(categories, percentages)]\n",
        "    colors = [palette[cat] for cat in categories]\n",
        "\n",
        "    # Pie chart\n",
        "    fig, ax = plt.subplots(figsize=(7, 7))\n",
        "    ax.pie(\n",
        "        percentages,\n",
        "        labels=labels,\n",
        "        colors=colors,\n",
        "        startangle=140,\n",
        "        wedgeprops=dict(width=0.4),\n",
        "        counterclock=False\n",
        "    )\n",
        "    ax.set_title(f\"{question_text}\", fontsize=13)\n",
        "    plt.tight_layout()\n",
        "    plt.show()\n",
        "\n",
        "    # Quick interpretation\n",
        "    agree = percentages.get('Strongly Agree', 0) + percentages.get('Agree', 0)\n",
        "    disagree = percentages.get('Disagree', 0) + percentages.get('Strongly Disagree', 0)\n",
        "    if agree >= 70:\n",
        "        print(\"🟢 Interpretation: Majority of teachers show strong agreement.\")\n",
        "    elif disagree >= 30:\n",
        "        print(\"🔴 Interpretation: Notable resistance or perceived ineffectiveness.\")\n",
        "    else:\n",
        "        print(\"🟡 Interpretation: Mixed or neutral sentiments.\")\n",
        "\n",
        "\n",
        "news = [\n",
        "    'I source for digital resources to use during my lesson',\n",
        "    'I collaborate with colleagues in sourcing for digital resources',\n",
        "    'I develop digital resources for use during the lessons',\n",
        "    'I try-out the digital resources before the lessons',\n",
        "    'The school provides adequate digital tools for use in the lessons',\n",
        "    'The school administration supports me to use digital resources for learning',\n",
        "    'The professional development opportunities provided enhance my knowledge and skills in using digital resources',\n",
        "    'I give all learners equal opportunities in the use of the digital resources',\n",
        "    'I ask learners questions to guide learners’ interaction with the digital resources',\n",
        "    'I engage my learners in group discussions to share their ideas with their peers as they interact with the digital resources',\n",
        "    'I encourage learners to ask questions on the concepts developed using the digital resources',\n",
        "    'I give learners enough time to interact with digital resources',\n",
        "    'I give learners assignments on concepts learned using the digital resources',\n",
        "    'I use digital resources to assess learning'\n",
        "]\n",
        "\n",
        "columns = [\n",
        "    'Statement 1. Sources digital resources',\n",
        "    'Statement 2. Collaborates in sourcing digital resources',\n",
        "    'Statement 3. Develops digital resources',\n",
        "    'Statement 4. Tries out digital resources before lessons',\n",
        "    'Statement 5. School provides adequate digital tools',\n",
        "    'Statement 6. School administration supports digital resources',\n",
        "    'Statement 7. Professional development enhances digital resource use',\n",
        "    'Statement 8. Equal learner opportunities with digital resources',\n",
        "    'Statement 9. Guides learners’ interaction with questions',\n",
        "    'Statement 10. Group discussions with digital resources',\n",
        "    'Statement 11. Encourages learner questions on digital resources',\n",
        "    'Statement 12. Time for learner interaction with digital resources',\n",
        "    'Statement 13. Assignments on digital resources concepts',\n",
        "    'Statement 14. Uses digital resources to assess learning'\n",
        "]\n",
        "\n",
        "# Loop through columns and corresponding news/questions\n",
        "for col, question in zip(columns, news):\n",
        "    plot_likert_statement_pie(col, question_text=question, df=questions)"
      ],
      "metadata": {
        "id": "7l7XEuUONphn"
      },
      "execution_count": null,
      "outputs": []
    },
    {
      "cell_type": "markdown",
      "source": [
        "- Extract the most common gadgets mentioned in a pandas DataFrame column using NLP:"
      ],
      "metadata": {
        "id": "HeB96MFEoLIv"
      }
    },
    {
      "cell_type": "code",
      "source": [
        "# Load spaCy English model\n",
        "nlp = spacy.load('en_core_web_sm')\n",
        "\n",
        "# Example: suppose your dataframe is named questions and the column is 'Gadgets Used'\n",
        "texts = questions['15a. Commonly used digital resources (Hardware)'].dropna().astype(str).tolist()\n",
        "\n",
        "# Aggregate all texts into one string (or process row by row for more granularity)\n",
        "all_text = \" \".join(texts)\n",
        "\n",
        "# Process text with spaCy\n",
        "doc = nlp(all_text)\n",
        "\n",
        "# Extract nouns (potential gadgets)\n",
        "nouns = [token.lemma_.lower() for token in doc if token.pos_ == \"NOUN\"]\n",
        "\n",
        "# Optional: filter for likely gadget words if you have a known list, or just get most common nouns\n",
        "common_nouns = Counter(nouns).most_common(20)\n",
        "\n",
        "print(\"Most common gadgets mentioned:\")\n",
        "for noun, freq in common_nouns:\n",
        "    print(f\"{noun}: {freq}\")"
      ],
      "metadata": {
        "id": "Bez3fjCjPUAI"
      },
      "execution_count": null,
      "outputs": []
    },
    {
      "cell_type": "code",
      "source": [
        "# Load spaCy English model\n",
        "nlp = spacy.load('en_core_web_sm')\n",
        "\n",
        "# Example: suppose your dataframe is named questions and the column is 'Gadgets Used'\n",
        "texts = questions['15b. Commonly used digital resources (Software)'].dropna().astype(str).tolist()\n",
        "\n",
        "# Aggregate all texts into one string (or process row by row for more granularity)\n",
        "all_text = \" \".join(texts)\n",
        "\n",
        "# Process text with spaCy\n",
        "doc = nlp(all_text)\n",
        "\n",
        "# Extract nouns (potential gadgets)\n",
        "nouns = [token.lemma_.lower() for token in doc if token.pos_ == \"NOUN\"]\n",
        "\n",
        "# Optional: filter for likely gadget words if you have a known list, or just get most common nouns\n",
        "common_nouns = Counter(nouns).most_common(20)\n",
        "\n",
        "print(\"Most common software mentioned:\")\n",
        "for noun, freq in common_nouns:\n",
        "    print(f\"{noun}: {freq}\")"
      ],
      "metadata": {
        "id": "bXB_zPi1o_UC"
      },
      "execution_count": null,
      "outputs": []
    },
    {
      "cell_type": "markdown",
      "source": [
        "- Step-by-Step Thematic Analysis Using NLP:\n",
        "1. Text preprocessing (cleaning, stopword removal)\n",
        "\n",
        "2. Embedding via Sentence Transformers\n",
        "\n",
        "3. Dimensionality reduction via UMAP\n",
        "\n",
        "4. Clustering via HDBSCAN\n",
        "\n",
        "5. Keyword extraction via KeyBERT for labeling themes"
      ],
      "metadata": {
        "id": "4h3sE69tr18-"
      }
    },
    {
      "cell_type": "markdown",
      "source": [
        "## FUNCTION DEFINATION FOR ANALYSIS"
      ],
      "metadata": {
        "id": "tSacNcvDtCaH"
      }
    },
    {
      "cell_type": "code",
      "source": [
        "def analyze_open_text_column(df, column_name, n_topics=3, n_words=7, topic_labels=None, sample_column=None):\n",
        "    \"\"\"\n",
        "    Analyze an open-ended survey question using preprocessing, TF-IDF, and LDA topic modeling.\n",
        "\n",
        "    Args:\n",
        "        df (pd.DataFrame): The input DataFrame.\n",
        "        column_name (str): Name of the column containing free-text responses.\n",
        "        n_topics (int): Number of LDA topics.\n",
        "        n_words (int): Number of keywords to extract per topic.\n",
        "        topic_labels (dict): Optional mapping of topic index to human-readable name.\n",
        "        sample_column (str): Optional column to use for printing sample responses (if different).\n",
        "\n",
        "    Returns:\n",
        "        pd.DataFrame: DataFrame with assigned topic and topic name.\n",
        "    \"\"\"\n",
        "\n",
        "    # 1. Preprocess\n",
        "    def preprocess_text(text):\n",
        "        text = text.lower()\n",
        "        text = re.sub(r'\\b(?:i{1,3}|iv|v|vi|vii|viii|ix|x)\\b', '', text)\n",
        "        text = re.sub(r'\\W', ' ', text)\n",
        "        text = re.sub(r'\\s+', ' ', text)\n",
        "        tokens = word_tokenize(text)\n",
        "        stop_words = set(stopwords.words('english'))\n",
        "        lemmatizer = WordNetLemmatizer()\n",
        "        tokens = [lemmatizer.lemmatize(word) for word in tokens if word not in stop_words]\n",
        "        return ' '.join(tokens)\n",
        "\n",
        "    text_data = df[column_name].dropna()\n",
        "    text_cleaned = text_data.apply(preprocess_text)\n",
        "\n",
        "    # 2. TF-IDF\n",
        "    tfidf_vectorizer = TfidfVectorizer(max_features=1000)\n",
        "    tfidf_matrix = tfidf_vectorizer.fit_transform(text_cleaned)\n",
        "    tfidf_scores = np.asarray(tfidf_matrix.mean(axis=0)).flatten()\n",
        "    top_tfidf_words = [tfidf_vectorizer.get_feature_names_out()[i] for i in np.argsort(tfidf_scores)[-10:]]\n",
        "    print(f\"\\n🔹 Top TF-IDF Words: {top_tfidf_words}\")\n",
        "\n",
        "    # 3. LDA\n",
        "    lda = LatentDirichletAllocation(n_components=n_topics, random_state=42)\n",
        "    lda.fit(tfidf_matrix)\n",
        "\n",
        "    def display_topics(model, feature_names):\n",
        "        topics = {}\n",
        "        for topic_idx, topic in enumerate(model.components_):\n",
        "            words = [feature_names[i] for i in topic.argsort()[:-n_words - 1:-1]]\n",
        "            print(f\"🔹 Topic {topic_idx + 1}: {', '.join(words)}\")\n",
        "            topics[topic_idx] = words\n",
        "        return topics\n",
        "\n",
        "    topics = display_topics(lda, tfidf_vectorizer.get_feature_names_out())\n",
        "\n",
        "    # 4. Topic assignment\n",
        "    topic_assignments = lda.transform(tfidf_matrix).argmax(axis=1)\n",
        "    result_df = df.copy()\n",
        "    result_df.loc[text_data.index, 'Assigned Topic'] = topic_assignments\n",
        "    if topic_labels:\n",
        "        result_df['Assigned Topic Name'] = result_df['Assigned Topic'].map(topic_labels)\n",
        "\n",
        "    # 5. Frequency Visualization\n",
        "    if topic_labels:\n",
        "        label_counts = result_df['Assigned Topic Name'].value_counts().sort_values()\n",
        "        labels = label_counts.index.tolist()\n",
        "    else:\n",
        "        label_counts = result_df['Assigned Topic'].value_counts().sort_index()\n",
        "        labels = [f'Topic {i}' for i in label_counts.index]\n",
        "\n",
        "    plt.figure(figsize=(10, 6))\n",
        "    bars = plt.barh(labels, label_counts.values, color=plt.cm.Set2.colors[:len(labels)])\n",
        "    plt.xlabel(\"Number of Responses\")\n",
        "    plt.title(f\"Topic Distribution for: {column_name}\")\n",
        "\n",
        "    for bar in bars:\n",
        "        plt.text(bar.get_width() + 1, bar.get_y() + bar.get_height()/2,\n",
        "                 f'{int(bar.get_width())}', va='center')\n",
        "\n",
        "    plt.tight_layout()\n",
        "    plt.show()\n",
        "\n",
        "    # 6. Optional: Sample responses per topic\n",
        "    print(\"\\n📌 Sample Responses per Topic\")\n",
        "    for topic_id in range(n_topics):\n",
        "        label = topic_labels.get(topic_id, f\"Topic {topic_id}\") if topic_labels else f\"Topic {topic_id}\"\n",
        "        print(f\"\\n🟦 {label}\")\n",
        "        samples = result_df[result_df['Assigned Topic'] == topic_id].sample(n=3, random_state=42)\n",
        "        column_to_sample = sample_column if sample_column else column_name\n",
        "        for i, text in enumerate(samples[column_to_sample]):\n",
        "            print(f\"  {i+1}. {text}\")\n",
        "\n",
        "    return result_df\n"
      ],
      "metadata": {
        "id": "9DExtZMpqjmb"
      },
      "execution_count": null,
      "outputs": []
    },
    {
      "cell_type": "markdown",
      "source": [
        "### Question 16 : Influence of digital resources on teaching"
      ],
      "metadata": {
        "id": "lUT7UuOTYuWw"
      }
    },
    {
      "cell_type": "code",
      "source": [
        "text_data = questions['16. Influence of digital resources on teaching'].dropna()  # Drop missing values\n",
        "\n",
        "### Step 1: Preprocessing Function ###\n",
        "def preprocess_text(text):\n",
        "    text = text.lower()  # Lowercasing\n",
        "    text = re.sub(r'\\b(?:i{1,3}|iv|v|vi|vii|viii|ix|x)\\b', '', text)\n",
        "    text = re.sub(r'\\W', ' ', text)  # Remove punctuation\n",
        "    text = re.sub(r'\\s+', ' ', text)  # Remove extra spaces\n",
        "    tokens = word_tokenize(text)  # Tokenization\n",
        "    stop_words = set(stopwords.words('english'))  # Stopwords\n",
        "    lemmatizer = WordNetLemmatizer()\n",
        "    tokens = [lemmatizer.lemmatize(word) for word in tokens if word not in stop_words]\n",
        "    return ' '.join(tokens)\n",
        "\n",
        "# Apply preprocessing\n",
        "text_data_cleaned = text_data.apply(preprocess_text)\n",
        "\n",
        "# Ensure the index alignment with the original DataFrame\n",
        "text_data_cleaned.index = text_data.index\n",
        "\n",
        "### Step 2: TF-IDF Vectorization ###\n",
        "tfidf_vectorizer = TfidfVectorizer(max_features=1000)  # Limit to top 1000 words\n",
        "tfidf_matrix = tfidf_vectorizer.fit_transform(text_data_cleaned)\n",
        "\n",
        "# Convert TF-IDF to DataFrame\n",
        "tfidf_df = pd.DataFrame(tfidf_matrix.toarray(), columns=tfidf_vectorizer.get_feature_names_out())\n",
        "\n",
        "# Print top TF-IDF words\n",
        "top_n = 10  # Number of words to display\n",
        "tfidf_scores = np.asarray(tfidf_matrix.mean(axis=0)).flatten()\n",
        "top_tfidf_words = [tfidf_vectorizer.get_feature_names_out()[i] for i in np.argsort(tfidf_scores)[-top_n:]]\n",
        "print(\"🔹 Top TF-IDF Words:\", top_tfidf_words)\n",
        "\n",
        "### Step 3: Topic Modeling using LDA ###\n",
        "lda = LatentDirichletAllocation(n_components=3, random_state=42)  # 3 topics\n",
        "lda.fit(tfidf_matrix)\n",
        "\n",
        "# Extract top words for each topic\n",
        "def display_topics(model, feature_names, num_words=5):\n",
        "    topics = {}\n",
        "    for topic_idx, topic in enumerate(model.components_):\n",
        "        words = [feature_names[i] for i in topic.argsort()[:-num_words - 1:-1]]\n",
        "        print(f\"🔹 Topic {topic_idx + 1}: {', '.join(words)}\")\n",
        "        topics[topic_idx] = words\n",
        "    return topics\n",
        "\n",
        "topics = display_topics(lda, tfidf_vectorizer.get_feature_names_out(), num_words=7)\n",
        "\n"
      ],
      "metadata": {
        "id": "cONpTlqNpS6w"
      },
      "execution_count": null,
      "outputs": []
    },
    {
      "cell_type": "code",
      "source": [
        "topic_labels_q18a = {\n",
        "    0: 'Engagement Through Enjoyable Learning',\n",
        "    1: 'Interactive and Lively Lessons',\n",
        "    2: 'Conceptual Understanding and Skill Development'\n",
        "}\n",
        "\n",
        "updated_df = analyze_open_text_column(\n",
        "    questions,\n",
        "    column_name='16. Influence of digital resources on teaching',\n",
        "    n_topics=3,\n",
        "    n_words=7,\n",
        "    topic_labels=topic_labels_q18a\n",
        ")\n"
      ],
      "metadata": {
        "id": "-j6mX9yYtPPY"
      },
      "execution_count": null,
      "outputs": []
    },
    {
      "cell_type": "markdown",
      "source": [
        "“When we asked teachers how digital resources have influenced their teaching, we identified three key themes:\n",
        "\n",
        "1. **Engagement & Enjoyment**:\n",
        "\n",
        "Over a third said that digital tools made learning more fun and captured students’ attention.\n",
        "Some teachers Cited:\n",
        "  -  \"They make learning easy.\"\n",
        "  -  \"through digital resources learners are able to access the internet.\"\n",
        "  -  \"\"It has made it easier, more enjoyable and informative.\"\n",
        "\n",
        "2. **Interactive Lessons**:\n",
        "\n",
        "Many described how technology helped them make lessons more hands-on and participatory.Some teachers Cited:\n",
        " - \"It creates good stimulation and understanding whole teaching\"\n",
        " - \"Facilitate collaboration for the teacher and learner\"\n",
        "\n",
        "3. **Better Understanding**:\n",
        "\n",
        "Several teachers found that digital resources helped learners grasp difficult concepts more easily and improve their learning outcomes.\n",
        " - \"It has enhances digital literacy among the learners\"\n",
        " - \"It has improved lessons developments and learning understanding among learners\"\n",
        " - \"not only digital resources helps teacher but it also support learner to develop different skills and also simplifies teacher's work\""
      ],
      "metadata": {
        "id": "gXRdelUGtivQ"
      }
    },
    {
      "cell_type": "markdown",
      "source": [
        "### Question 17: School leadership support for digital resource use'"
      ],
      "metadata": {
        "id": "EWR9DQ3wemJF"
      }
    },
    {
      "cell_type": "code",
      "source": [
        "\n",
        "### Step 1: Load and preprocess text ###\n",
        "text_data = questions['17. School leadership support for digital resource use'].dropna()\n",
        "\n",
        "def preprocess_text(text):\n",
        "    text = text.lower()\n",
        "    text = re.sub(r'\\b(?:i{1,3}|iv|v|vi|vii|viii|ix|x)\\b', '', text)\n",
        "    text = re.sub(r'\\W', ' ', text)\n",
        "    text = re.sub(r'\\s+', ' ', text)\n",
        "    tokens = word_tokenize(text)\n",
        "    stop_words = set(stopwords.words('english'))\n",
        "    lemmatizer = WordNetLemmatizer()\n",
        "    tokens = [lemmatizer.lemmatize(word) for word in tokens if word not in stop_words]\n",
        "    return ' '.join(tokens)\n",
        "\n",
        "text_data_cleaned = text_data.apply(preprocess_text)\n",
        "\n",
        "### Step 2: TF-IDF Vectorization ###\n",
        "tfidf_vectorizer = TfidfVectorizer(max_features=1000)\n",
        "tfidf_matrix = tfidf_vectorizer.fit_transform(text_data_cleaned)\n",
        "tfidf_scores = np.asarray(tfidf_matrix.mean(axis=0)).flatten()\n",
        "top_tfidf_words = [tfidf_vectorizer.get_feature_names_out()[i] for i in np.argsort(tfidf_scores)[-10:]]\n",
        "print(\"🔹 Top TF-IDF Words:\", top_tfidf_words)\n",
        "\n",
        "### Step 3: Topic Modeling with LDA ###\n",
        "lda = LatentDirichletAllocation(n_components=3, random_state=42)\n",
        "lda.fit(tfidf_matrix)\n",
        "\n",
        "def display_topics(model, feature_names, num_words=7):\n",
        "    topics = {}\n",
        "    for topic_idx, topic in enumerate(model.components_):\n",
        "        words = [feature_names[i] for i in topic.argsort()[:-num_words - 1:-1]]\n",
        "        print(f\"🔹 Topic {topic_idx + 1}: {', '.join(words)}\")\n",
        "        topics[topic_idx] = words\n",
        "    return topics\n",
        "\n",
        "topics = display_topics(lda, tfidf_vectorizer.get_feature_names_out(), num_words=7)"
      ],
      "metadata": {
        "id": "WzMtdzceesGp"
      },
      "execution_count": null,
      "outputs": []
    },
    {
      "cell_type": "code",
      "source": [
        "topic_names = {\n",
        "    0: \"Provision of Infrastructure (Internet, Wi-Fi, Devices)\",\n",
        "    1: \"Basic Digital Tools & Devices (e.g., Tablets, Projectors)\",\n",
        "    2: \"Resource Accessibility & Learning Subscriptions\"\n",
        "}\n",
        "# Assign topic to each response\n",
        "topic_assignments = lda.transform(tfidf_matrix).argmax(axis=1)\n",
        "questions['Assigned Topic'] = topic_assignments\n",
        "\n",
        "# Map topic numbers to names\n",
        "questions['Assigned Topic Name'] = questions['Assigned Topic'].map(topic_names)\n",
        "\n",
        "# Count and visualize\n",
        "topic_counts = questions['Assigned Topic Name'].value_counts().sort_values()\n",
        "\n",
        "# Bar chart\n",
        "plt.figure(figsize=(10, 6))\n",
        "bars = plt.barh(topic_counts.index, topic_counts.values, color=['orange', 'skyblue', 'lightgreen'])\n",
        "plt.xlabel(\"Number of Responses\")\n",
        "plt.title(\"Themes of Support from School Leadership in Use of Digital Resources\")\n",
        "\n",
        "for bar in bars:\n",
        "    plt.text(bar.get_width() + 1, bar.get_y() + bar.get_height() / 2, f\"{int(bar.get_width())}\", va='center')\n",
        "\n",
        "plt.tight_layout()\n",
        "plt.show()\n"
      ],
      "metadata": {
        "id": "6lXL7oNMffdd"
      },
      "execution_count": null,
      "outputs": []
    },
    {
      "cell_type": "code",
      "source": [
        "# Re-import necessary libraries after code execution state reset\n",
        "import matplotlib.pyplot as plt\n",
        "\n",
        "# Sample topic count data (replace with actual values if needed)\n",
        "topic_counts = {\n",
        "    \"Provision of Infrastructure (Internet, Wi-Fi, Devices)\": 203,\n",
        "    \"Basic Digital Tools & Devices (e.g., Tablets, Projectors)\": 176,\n",
        "    \"Resource Accessibility & Learning Subscriptions\": 87\n",
        "}\n",
        "\n",
        "# Labels and sizes for the pie chart\n",
        "labels = list(topic_counts.keys())\n",
        "sizes = list(topic_counts.values())\n",
        "colors = ['#66c2a5', '#fc8d62', '#8da0cb']\n",
        "\n",
        "# Create pie chart\n",
        "plt.figure(figsize=(11, 12))\n",
        "plt.pie(sizes, labels=labels, autopct='%1.1f%%', startangle=140, colors=colors)\n",
        "plt.axis('equal')  # Equal aspect ratio ensures the pie is drawn as a circle.\n",
        "plt.title(\"Support from School Leadership in Use of Digital Resources\", fontsize=14)\n",
        "plt.tight_layout()\n",
        "plt.show()\n"
      ],
      "metadata": {
        "id": "gwdYSIOSf62H"
      },
      "execution_count": null,
      "outputs": []
    },
    {
      "cell_type": "markdown",
      "source": [
        "Support from School Leadership on Use of Digital Resources\n",
        "\n",
        "Based on responses from teachers, three key themes emerged:\n",
        "\n",
        "1. **Provision of Infrastructure (44%)**: Most teachers cited support through provision of internet, Wi-Fi, and computer labs, enabling easier access to digital tools.\n",
        "\n",
        "2. **Basic Digital Tools (38%)**: Many teachers reported receiving devices like tablets, projectors, and laptops to aid digital instruction.\n",
        "\n",
        "3. **Resource Accessibility (19%)**: Some noted support in subscribing to digital learning platforms, ensuring they had access to relevant teaching content.\n",
        "\n",
        "These findings highlight the importance of leadership in enabling both connectivity and content access to empower digital teaching."
      ],
      "metadata": {
        "id": "g0Ku0apBftXl"
      }
    },
    {
      "cell_type": "markdown",
      "source": [
        "### QUESTION **18: (a) Briefly explain how teacher professional development has helped you in the use digital resources\tobject**\n",
        "\n"
      ],
      "metadata": {
        "id": "7sk_C3R8gmZe"
      }
    },
    {
      "cell_type": "code",
      "source": [
        "### Step 1: Load and preprocess text ###\n",
        "text_data = questions['18a. Impact of professional development on digital resource use'].dropna()\n",
        "\n",
        "def preprocess_text(text):\n",
        "    text = text.lower()\n",
        "    text = re.sub(r'\\b(?:i{1,3}|iv|v|vi|vii|viii|ix|x)\\b', '', text)\n",
        "    text = re.sub(r'\\W', ' ', text)\n",
        "    text = re.sub(r'\\s+', ' ', text)\n",
        "    tokens = word_tokenize(text)\n",
        "    stop_words = set(stopwords.words('english'))\n",
        "    lemmatizer = WordNetLemmatizer()\n",
        "    tokens = [lemmatizer.lemmatize(word) for word in tokens if word not in stop_words]\n",
        "    return ' '.join(tokens)\n",
        "\n",
        "text_data_cleaned = text_data.apply(preprocess_text)\n",
        "\n",
        "### Step 2: TF-IDF Vectorization ###\n",
        "tfidf_vectorizer = TfidfVectorizer(max_features=1000)\n",
        "tfidf_matrix = tfidf_vectorizer.fit_transform(text_data_cleaned)\n",
        "tfidf_scores = np.asarray(tfidf_matrix.mean(axis=0)).flatten()\n",
        "top_tfidf_words = [tfidf_vectorizer.get_feature_names_out()[i] for i in np.argsort(tfidf_scores)[-10:]]\n",
        "print(\"🔹 Top TF-IDF Words:\", top_tfidf_words)\n",
        "\n",
        "### Step 3: Topic Modeling with LDA ###\n",
        "lda = LatentDirichletAllocation(n_components=3, random_state=42)\n",
        "lda.fit(tfidf_matrix)\n",
        "\n",
        "def display_topics(model, feature_names, num_words=7):\n",
        "    topics = {}\n",
        "    for topic_idx, topic in enumerate(model.components_):\n",
        "        words = [feature_names[i] for i in topic.argsort()[:-num_words - 1:-1]]\n",
        "        print(f\"🔹 Topic {topic_idx + 1}: {', '.join(words)}\")\n",
        "        topics[topic_idx] = words\n",
        "    return topics\n",
        "\n",
        "topics = display_topics(lda, tfidf_vectorizer.get_feature_names_out(), num_words=7)\n",
        "\n"
      ],
      "metadata": {
        "id": "7y1rcrw8lDiL"
      },
      "execution_count": null,
      "outputs": []
    },
    {
      "cell_type": "code",
      "source": [
        "### Step 4: Assign Topics and Map Names ###\n",
        "# You may rename based on output\n",
        "topic_names = {\n",
        "    0:  \"Practical Classroom Integration\",\n",
        "    1: \"Skill & Knowledge Development\",\n",
        "    2: \"Improved Content Delivery\"\n",
        "}\n",
        "\n",
        "topic_assignments = lda.transform(tfidf_matrix).argmax(axis=1)\n",
        "questions['Assigned Topic'] = topic_assignments\n",
        "questions['Assigned Topic Name'] = questions['Assigned Topic'].map(topic_names)\n",
        "\n",
        "### Step 5: Frequency and Visualization ###\n",
        "topic_counts = questions['Assigned Topic Name'].value_counts().sort_values()\n",
        "\n",
        "plt.figure(figsize=(10, 6))\n",
        "bars = plt.barh(topic_counts.index, topic_counts.values, color=['skyblue', 'lightgreen', 'salmon'])\n",
        "plt.xlabel(\"Number of Responses\")\n",
        "plt.title(\"How Teacher Professional Development Helped Use of Digital Resources\")\n",
        "\n",
        "# Add labels on bars\n",
        "for bar in bars:\n",
        "    plt.text(bar.get_width() + 2, bar.get_y() + bar.get_height()/2,\n",
        "             f'{int(bar.get_width())}', va='center')\n",
        "\n",
        "plt.tight_layout()\n",
        "plt.show()\n",
        "\n",
        "### Optional: Print sample responses for each theme ###\n",
        "for topic_id, name in topic_names.items():\n",
        "    print(f\"\\n🟦 Topic {topic_id}: {name}\")\n",
        "    samples = questions[questions['Assigned Topic'] == topic_id].sample(3, random_state=42)\n",
        "    for i, text in enumerate(samples['16. Influence of digital resources on teaching']):\n",
        "        print(f\"  {i+1}. {text}\")"
      ],
      "metadata": {
        "id": "U41qCBX4lOLE"
      },
      "execution_count": null,
      "outputs": []
    },
    {
      "cell_type": "code",
      "source": [
        "#visualize pie-chart\n",
        "topic_counts = {\n",
        "    \"Practical Classroom Integration\": 236,\n",
        "    \"Skill & Knowledge Development\": 139,\n",
        "    \"Improved Content Delivery\": 91\n",
        "}\n",
        "\n",
        "# Labels and sizes for the pie chart\n",
        "labels = list(topic_counts.keys())\n",
        "sizes = list(topic_counts.values())\n",
        "colors = ['#66c2a5', '#fc8d62', '#8da0cb']\n",
        "\n",
        "# Create pie chart\n",
        "plt.figure(figsize=(8, 10))\n",
        "plt.pie(sizes, labels=labels, autopct='%1.1f%%', startangle=140, colors=colors)\n",
        "plt.axis('equal')  # Equal aspect ratio ensures the pie is drawn as a circle.\n",
        "plt.title(\"How Teacher Professional Development Helped Use of Digital Resources\", fontsize=14)\n",
        "plt.tight_layout()\n",
        "plt.show()\n"
      ],
      "metadata": {
        "id": "KWYsVFCLknTc"
      },
      "execution_count": null,
      "outputs": []
    },
    {
      "cell_type": "markdown",
      "source": [
        "From the analysis of over 450 teachers’ open-text responses, we grouped their experiences into three major themes:\n",
        "\n",
        "1. **Practical Integration in the Classroom** (51%):\n",
        "\n",
        "Majority of the teachers mentioned how they now incorporate digital devices and online platforms directly in their teaching. Citing benefits e.g. :\n",
        " - Arouse the curiosity of the learners and makes lessons interesting\n",
        " - It has made it easier to explain concept\n",
        " - It has made my teaching appear so real and exciting to my leaners.\n",
        "Retention of learnt concepts is also enhanced.\n",
        " - The learners enjoy learning sessions and the knowledge learnt is retrained\n",
        " - It makes it lovely, interesting and enjoyable for learners to easily comprehend\n",
        "\n",
        "2. **Skill & Knowledge Development**:\n",
        "\n",
        "30% of the Junior Secondary School teachers indicated training helped them gain the skills and confidence to use digital tools effectively.\n",
        "\n",
        "3. **Improved Lesson Planning and Content Delivery** :\n",
        "\n",
        "While **20%** of the teachers explained that training helped them better prepare lessons using digital resources.\n",
        "Citing:\n",
        " - not only digital resources helps teacher but it also support learner to develop different skills and also simplifies teacher's work\n",
        " - It enhances critical thinking which is seen in real life teaching\n",
        "\n",
        "This breakdown highlights that professional development is not just about using devices—it’s about how that knowledge translates into improved teaching and learning."
      ],
      "metadata": {
        "id": "FPhOYNIcmOAU"
      }
    },
    {
      "cell_type": "markdown",
      "source": [
        "### **18(b) Suggest training needs to be addressed on the use of digital resources in future Teacher Professional Development program**"
      ],
      "metadata": {
        "id": "0m3wKs91mkXr"
      }
    },
    {
      "cell_type": "code",
      "source": [
        "### Step 1: Load and preprocess text ###\n",
        "text_data = questions['18b. Suggested future training needs for digital resource use'].dropna()\n",
        "\n",
        "def preprocess_text(text):\n",
        "    text = text.lower()\n",
        "    text = re.sub(r'\\b(?:i{1,3}|iv|v|vi|vii|viii|ix|x)\\b', '', text)\n",
        "    text = re.sub(r'\\W', ' ', text)\n",
        "    text = re.sub(r'\\s+', ' ', text)\n",
        "    tokens = word_tokenize(text)\n",
        "    stop_words = set(stopwords.words('english'))\n",
        "    lemmatizer = WordNetLemmatizer()\n",
        "    tokens = [lemmatizer.lemmatize(word) for word in tokens if word not in stop_words]\n",
        "    return ' '.join(tokens)\n",
        "\n",
        "text_data_cleaned = text_data.apply(preprocess_text)\n",
        "\n",
        "### Step 2: TF-IDF Vectorization ###\n",
        "tfidf_vectorizer = TfidfVectorizer(max_features=1000)\n",
        "tfidf_matrix = tfidf_vectorizer.fit_transform(text_data_cleaned)\n",
        "tfidf_scores = np.asarray(tfidf_matrix.mean(axis=0)).flatten()\n",
        "top_tfidf_words = [tfidf_vectorizer.get_feature_names_out()[i] for i in np.argsort(tfidf_scores)[-10:]]\n",
        "print(\"🔹 Top TF-IDF Words:\", top_tfidf_words)\n",
        "\n",
        "### Step 3: Topic Modeling with LDA ###\n",
        "lda = LatentDirichletAllocation(n_components=3, random_state=42)\n",
        "lda.fit(tfidf_matrix)\n",
        "\n",
        "def display_topics(model, feature_names, num_words=7):\n",
        "    topics = {}\n",
        "    for topic_idx, topic in enumerate(model.components_):\n",
        "        words = [feature_names[i] for i in topic.argsort()[:-num_words - 1:-1]]\n",
        "        print(f\"🔹 Topic {topic_idx + 1}: {', '.join(words)}\")\n",
        "        topics[topic_idx] = words\n",
        "    return topics\n",
        "\n",
        "topics = display_topics(lda, tfidf_vectorizer.get_feature_names_out(), num_words=7)\n",
        "\n"
      ],
      "metadata": {
        "id": "AS9OQDAglBV2"
      },
      "execution_count": null,
      "outputs": []
    },
    {
      "cell_type": "code",
      "source": [
        "\n",
        "### Step 4: Assign Topics and Map Names ###\n",
        "# You may rename based on output\n",
        "topic_names = {\n",
        "    0:  'Digital Pedagogy Skills',\n",
        "    1: \"Demand for relevant, tailored & Inclusive training\",\n",
        "    2: \"ICT Literacy & Infrastructure Gaps\"\n",
        "}\n",
        "\n",
        "topic_assignments = lda.transform(tfidf_matrix).argmax(axis=1)\n",
        "questions['Assigned Topic'] = topic_assignments\n",
        "questions['Assigned Topic Name'] = questions['Assigned Topic'].map(topic_names)\n",
        "\n",
        "### Step 5: Frequency and Visualization ###\n",
        "topic_counts = questions['Assigned Topic Name'].value_counts().sort_values()\n",
        "\n",
        "plt.figure(figsize=(10, 6))\n",
        "bars = plt.barh(topic_counts.index, topic_counts.values, color=['skyblue', 'lightgreen', 'salmon'])\n",
        "plt.xlabel(\"Number of Responses\")\n",
        "plt.title(\"Suggested Training Needs for Future Professional Development\")\n",
        "\n"
      ],
      "metadata": {
        "id": "VUyPD6twoXLs"
      },
      "execution_count": null,
      "outputs": []
    },
    {
      "cell_type": "code",
      "source": [
        "\n",
        "import matplotlib.pyplot as plt\n",
        "\n",
        "# topic distribution (adjust based on your actual LDA assignments)\n",
        "topic_counts = {\n",
        "    \"Digital Pedagogy Skills\": 200,\n",
        "    \"Tailored & Inclusive Training Needs\": 171,\n",
        "    \"ICT Literacy & Infrastructure Gaps\": 95\n",
        "}\n",
        "# Labels and sizes for the pie chart\n",
        "labels = list(topic_counts.keys())\n",
        "sizes = list(topic_counts.values())\n",
        "colors = ['#66c2a5', '#fc8d62', '#8da0cb']\n",
        "\n",
        "# Create pie chart\n",
        "plt.figure(figsize=(8, 10))\n",
        "plt.pie(sizes, labels=labels, autopct='%1.1f%%', startangle=140, colors=colors)\n",
        "plt.axis('equal')  # Equal aspect ratio ensures the pie is drawn as a circle.\n",
        "plt.title(\"Suggested Training Needs for Future Professional Development\", fontsize=14)\n",
        "plt.tight_layout()\n",
        "plt.show()\n",
        "\n"
      ],
      "metadata": {
        "id": "r3ae-PgeoWUC"
      },
      "execution_count": null,
      "outputs": []
    },
    {
      "cell_type": "code",
      "source": [
        "topic_labels_18b = {\n",
        "    0: 'Digital Pedagogy Skills',\n",
        "    1: 'Tailored & Inclusive Training Needs',\n",
        "    2: 'ICT Literacy & Infrastructure Gaps'\n",
        "}\n",
        "\n",
        "updated_df = analyze_open_text_column(\n",
        "    questions,\n",
        "    column_name='18b. Suggested future training needs for digital resource use',\n",
        "    n_topics=3,\n",
        "    n_words=7,\n",
        "    topic_labels=topic_labels_18b\n",
        ")"
      ],
      "metadata": {
        "id": "nglpEP0LrZxP"
      },
      "execution_count": null,
      "outputs": []
    },
    {
      "cell_type": "markdown",
      "source": [
        "The **Junior Secondary** Teachers Suggested Training Needs for Future Professional Development:\n",
        "\n",
        "1. **Digital Pedagogy Skills** (43%): Many teachers want to learn how to effectively use digital tools in actual teaching, including how to integrate them into lesson plans and assessments.\n",
        "- Sample responses:\n",
        " - \"Using of programming software e.g coding\"\n",
        " - \"organizing for teachers training programs for ICT \"\n",
        "\n",
        "2. **Tailored and Inclusive Training** (37%): Teachers emphasized the need for training that is practical, specific to their subjects, and inclusive of their experience levels.\n",
        "\n",
        "3. **ICT Literacy and Infrastructure Gaps** (20%): A significant number highlighted the need for foundational digital literacy, such as how to use computers, access online content, or set up basic hardware.\n"
      ],
      "metadata": {
        "id": "VmDlzKa_pZnI"
      }
    },
    {
      "cell_type": "code",
      "source": [
        "questions.head()"
      ],
      "metadata": {
        "id": "pcwdR70VMLxI"
      },
      "execution_count": null,
      "outputs": []
    },
    {
      "cell_type": "code",
      "source": [
        "#saving\n",
        "questionaire_1 = questions.copy()\n",
        "#saving it as an excel file\n",
        "questionaire_1.to_excel('questionaire_1.xlsx', index=False)"
      ],
      "metadata": {
        "id": "H_m2pt5uMCEg"
      },
      "execution_count": null,
      "outputs": []
    },
    {
      "cell_type": "markdown",
      "source": [
        "### FGD_JS DATASET\n",
        "- This dataset is for **Focus Group Discussion-Junior Secondary**\n",
        "- A qualitative and contextual learner-level dataset capturing firsthand experiences with digital resources in junior secondary STEM classrooms\n",
        "- It aligns closely with two research objectives and supports both descriptive summary and thematic analysis."
      ],
      "metadata": {
        "id": "ypuhMyi7uvWz"
      }
    },
    {
      "cell_type": "markdown",
      "source": [
        "### Metadata / Contextual Columns:\n",
        "- These describe the school profile:\n",
        "- Columns:\n",
        " - 1.a. Name of School\n",
        " - 1.b. County\n",
        " - 1.c. Sub-County\n",
        " - 2.Level of the school\n",
        " - 3.Category\n",
        " - 4.Type of school\n",
        " - 5.Nature of School\n",
        "\n",
        "- Purpose: Enables cross-tabulation or thematic comparison across:\n",
        " - Counties or regions\n",
        "\n",
        " - School categories (e.g., day/boarding, public/private, mixed/single-gender)\n",
        "\n",
        " - Urban vs. rural or sub-county level"
      ],
      "metadata": {
        "id": "KKt33yxrPYN-"
      }
    },
    {
      "cell_type": "code",
      "source": [
        "df=pd.read_excel('/content/FGD_JS_cleaned.xlsx')\n"
      ],
      "metadata": {
        "id": "tdecXoQJrk4g"
      },
      "execution_count": null,
      "outputs": []
    },
    {
      "cell_type": "code",
      "source": [
        "#renaming columns\n",
        "df.rename(columns={\n",
        "    '1.  Name some of the digital resources your teachers use to teach integrated science, Mathematics, Pre-technical, and Agriculture, Physics, Biology or Chemistry lessons.': 'resources_used',\n",
        "    '2. Tell me some specific lesson(s) you were taught using digital resources. (Probe  the specific content area in Integrated science, Mathematics, Pre-technical, and Agriculture/ Physics, Biology or Chemistry) ': 'lessons_taught_with_digital',\n",
        "    '3. How often are digital resources used during your Science or mathematics lessons?(To probe how many lessons, digital resources have been used, in this term-  Science, mathematics, Pre-technical, and Agriculture, Physics, Biology or Chemistry lessons) ': 'digital_use_frequency',\n",
        "    '4. Does your teacher allow you to interact with digital resources? (Probe on the mode of interaction with digital resources)  ': 'student_interaction_mode',\n",
        "    '5.a. How do you feel when your teacher uses digital resources in the lesson? (Probe for interest, or easy understanding) ': 'student_feeling_about_digital',\n",
        "    '5.b.  Can you share an example of a digital resource that made the lesson exciting, enjoyable, or easier to understand? (Probe for Integrated science, mathematics,  pre-technical, and Agriculture, Physics, Biology or Chemistry)': 'example_enjoyable_digital_resource',\n",
        "    '6. Does your teacher give you assignments on the main idea learnt when using digital resources in a lesson? (If YES, explain how the assignment help you to recall the learnt idea)': 'assignment_recall_help'\n",
        "}, inplace=True)\n",
        "#checking\n",
        "df.columns"
      ],
      "metadata": {
        "id": "BQ-RbcqgOa7k"
      },
      "execution_count": null,
      "outputs": []
    },
    {
      "cell_type": "markdown",
      "source": [
        "### QUESTION 1: **Name some of the digital resources your teachers use to teach integrated science, Mathematics, Pre-technical, and Agriculture, Physics, Biology or Chemistry lessons.**"
      ],
      "metadata": {
        "id": "RlQXBRW5UaSx"
      }
    },
    {
      "cell_type": "code",
      "source": [
        "# === Step 1: Advanced Cleaner & Splitter ===\n",
        "def clean_and_split(text):\n",
        "    text = text.lower()\n",
        "\n",
        "    # Fix joined words like 'laptopsand desktops' → 'laptops, desktops'\n",
        "    text = re.sub(r'(\\w+)[\\s]*and[\\s]*(\\w+)', r'\\1, \\2', text)\n",
        "    text = re.sub(r'(\\w+)[\\s]*&[\\s]*(\\w+)', r'\\1, \\2', text)\n",
        "    text = re.sub(r'([a-z]+)[\\s]*(desktops?|laptops?)', r'\\1, \\2', text)\n",
        "\n",
        "    # Remove bullets or numbers like \"1. \", \"2. \"\n",
        "    text = re.sub(r'^\\s*\\d+[\\.\\)]\\s*', '', text)\n",
        "    text = re.sub(r'\\d+[\\.\\)]\\s*', '', text)\n",
        "\n",
        "    # Normalize delimiters\n",
        "    text = re.sub(r'[\\n;/]', ',', text)\n",
        "\n",
        "    # Clean leading/trailing symbols or whitespace\n",
        "    items = [re.sub(r'^[^\\w]+|[^\\w]+$', '', item.strip()) for item in re.split(r'[,\\n]', text)]\n",
        "\n",
        "    # Filter non-empty\n",
        "    return [item for item in items if item]\n",
        "\n",
        "# Step 2: Clean the resources_used column\n",
        "all_resources = df['resources_used'].dropna().apply(clean_and_split)\n",
        "\n",
        "# Flatten list\n",
        "flattened = [item for sublist in all_resources for item in sublist]\n",
        "\n",
        "# === Step 3: Final standardization ===\n",
        "standardization_map = {\n",
        "    # General hardware\n",
        "        'smart phones': 'smartphones',\n",
        "    '1. smart phones ':'smartphones',\n",
        "    'smart phone': 'smartphones',\n",
        "    'mobile phone': 'smartphones',\n",
        "    'mobile phones': 'smartphones',\n",
        "    'smartphones': 'smartphones',\n",
        "    ' 2. tablet': 'tablets',\n",
        "    'tablet': 'tablets',\n",
        "    'tablets': 'tablets',\n",
        "    'ipad': 'tablets',\n",
        "    'ipads': 'tablets',\n",
        "    'notebook': 'laptops',\n",
        "    'note books': 'laptops',\n",
        "    'laptop': 'laptops',\n",
        "    'laptops': 'laptops',\n",
        "    'desktop': 'computers',\n",
        "    'desktop computers': 'computers',\n",
        "    'desktops': 'computers',\n",
        "    'desk top computers': 'computers',\n",
        "    'computer': 'computers',\n",
        "    'computers': 'computers',\n",
        "    '3. projector': 'projectors',\n",
        "    'projector': 'projectors',\n",
        "    'projectors': 'projectors',\n",
        "    'markbook': 'smartbooks',\n",
        "    'smartbook': 'smartbooks',\n",
        "    'calculator': 'calculators',\n",
        "    'calculators': 'calculators',\n",
        "    'smart board': 'smartboards',\n",
        "    'smartboard': 'smartboards',\n",
        "    'smartboards': 'smartboards',\n",
        "    'mobile phone tablet': 'smartphones,tablets',\n",
        "\n",
        "    # Tools and accessories\n",
        "    'calculator': 'calculators',\n",
        "    'calculators': 'calculators',\n",
        "    'projector': 'projectors',\n",
        "    'projectors': 'projectors',\n",
        "    'smart board': 'smartboards',\n",
        "    'smartboard': 'smartboards',\n",
        "    'smartboards': 'smartboards',\n",
        "    'markbook': 'smartbooks',\n",
        "    'smartbook': 'smartbooks',\n",
        "    'smartbooks': 'smartbooks'\n",
        "}\n",
        "\n",
        "# Apply mapping\n",
        "standardized = [standardization_map.get(item, item) for item in flattened]\n",
        "\n",
        "# Count frequencies\n",
        "resource_counts = Counter(standardized)\n",
        "\n",
        "# Create DataFrame\n",
        "resource_df = pd.DataFrame(resource_counts.items(), columns=['Digital Resource', 'Mentions'])\n",
        "resource_df = resource_df.sort_values(by='Mentions', ascending=False).reset_index(drop=True)\n",
        "\n",
        "# Output\n",
        "print(resource_df)\n"
      ],
      "metadata": {
        "id": "IRW4janmUVTO"
      },
      "execution_count": null,
      "outputs": []
    },
    {
      "cell_type": "code",
      "source": [
        "\n",
        "\n",
        "# Sample top 4 from your cleaned DataFrame\n",
        "top_resources = resource_df.head(4).copy()\n",
        "\n",
        "# Calculate percentages\n",
        "total_mentions = top_resources['Mentions'].sum()\n",
        "top_resources['Percentage'] = (top_resources['Mentions'] / total_mentions) * 100\n",
        "\n",
        "# Plot\n",
        "plt.figure(figsize=(8, 6))\n",
        "bars = plt.bar(top_resources['Digital Resource'], top_resources['Percentage'], color='mediumseagreen')\n",
        "\n",
        "# Add percentage labels\n",
        "for bar in bars:\n",
        "    height = bar.get_height()\n",
        "    plt.text(bar.get_x() + bar.get_width()/2, height + 1, f\"{height:.1f}%\", ha='center', fontsize=12)\n",
        "\n",
        "# Style\n",
        "plt.title(\"Top 4 Digital Resources Used (as Reported by Learners)\", fontsize=14)\n",
        "plt.ylabel(\"Percentage of Top 4 Mentions\")\n",
        "plt.ylim(0, max(top_resources['Percentage']) + 10)\n",
        "plt.grid(axis='y', linestyle='--', alpha=0.7)\n",
        "\n",
        "plt.tight_layout()\n",
        "plt.show()\n"
      ],
      "metadata": {
        "id": "zUju-lzCYgxj"
      },
      "execution_count": null,
      "outputs": []
    },
    {
      "cell_type": "markdown",
      "source": [
        "### QUESTION 2 : **Tell me some specific lesson(s) you were taught using digital resources. (Probe  the specific content area in Integrated science, Mathematics, Pre-technical, and Agriculture/ Physics, Biology or Chemistry)**"
      ],
      "metadata": {
        "id": "Fdxk7wQ-YolP"
      }
    },
    {
      "cell_type": "code",
      "source": [
        "df['lessons_taught_with_digital']"
      ],
      "metadata": {
        "id": "WDin3t32YyN1"
      },
      "execution_count": null,
      "outputs": []
    },
    {
      "cell_type": "code",
      "source": [
        "import pandas as pd\n",
        "import numpy as np\n",
        "import re\n",
        "import nltk\n",
        "from nltk.corpus import stopwords\n",
        "from nltk.stem import WordNetLemmatizer\n",
        "from nltk.tokenize import word_tokenize\n",
        "from sklearn.feature_extraction.text import CountVectorizer, TfidfVectorizer\n",
        "from sklearn.decomposition import LatentDirichletAllocation\n",
        "\n",
        "### Step 1: Load and preprocess text ###\n",
        "text_data = df['lessons_taught_with_digital']\n",
        "\n",
        "def preprocess_text(text):\n",
        "    text = text.lower()\n",
        "    text = re.sub(r'\\b(?:i{1,3}|iv|v|vi|vii|viii|ix|x)\\b', '', text)\n",
        "    text = re.sub(r'\\W', ' ', text)\n",
        "    text = re.sub(r'\\s+', ' ', text)\n",
        "    tokens = word_tokenize(text)\n",
        "\n",
        "    stop_words = set(stopwords.words('english'))\n",
        "    domain_stopwords = {'lesson', 'taught', 'using', 'use', 'used', 'digital', 'resource', 'resources'}\n",
        "    all_stopwords = stop_words.union(domain_stopwords)\n",
        "\n",
        "    lemmatizer = WordNetLemmatizer()\n",
        "    tokens = [lemmatizer.lemmatize(word) for word in tokens if word not in all_stopwords]\n",
        "    return ' '.join(tokens)\n",
        "\n",
        "text_data_cleaned = text_data.apply(preprocess_text)\n",
        "\n",
        "### Step 2: TF-IDF Vectorization with Bigrams ###\n",
        "tfidf_vectorizer = TfidfVectorizer(max_features=1000, ngram_range=(1, 2))\n",
        "tfidf_matrix = tfidf_vectorizer.fit_transform(text_data_cleaned)\n",
        "tfidf_scores = np.asarray(tfidf_matrix.mean(axis=0)).flatten()\n",
        "\n",
        "# Get top 10 TF-IDF terms\n",
        "top_tfidf_words = [tfidf_vectorizer.get_feature_names_out()[i] for i in np.argsort(tfidf_scores)[-10:]]\n",
        "print(\"🔹 Top TF-IDF Words:\", top_tfidf_words)\n",
        "\n",
        "### Step 3: Topic Modeling with LDA using CountVectorizer ###\n",
        "count_vectorizer = CountVectorizer(max_df=0.95, min_df=2, stop_words='english', ngram_range=(1, 2))\n",
        "count_matrix = count_vectorizer.fit_transform(text_data_cleaned)\n",
        "\n",
        "lda = LatentDirichletAllocation(n_components=5, random_state=42)\n",
        "lda.fit(count_matrix)\n",
        "\n",
        "def display_topics(model, feature_names, num_words=7):\n",
        "    topics = {}\n",
        "    for topic_idx, topic in enumerate(model.components_):\n",
        "        words = [feature_names[i] for i in topic.argsort()[:-num_words - 1:-1]]\n",
        "        print(f\"🔹 Topic {topic_idx + 1}: {', '.join(words)}\")\n",
        "        topics[topic_idx] = words\n",
        "    return topics\n",
        "\n",
        "topics = display_topics(lda, count_vectorizer.get_feature_names_out(), num_words=7)\n"
      ],
      "metadata": {
        "id": "9CDxIh9GY15e"
      },
      "execution_count": null,
      "outputs": []
    },
    {
      "cell_type": "code",
      "source": [
        "### Step 4: Assign Topics and Map Names ###\n",
        "# Make sure to use `count_matrix`, not `tfidf_matrix` (LDA was fitted on this)\n",
        "topic_assignments = lda.transform(count_matrix).argmax(axis=1)\n",
        "\n",
        "# Assuming 'questions' is a DataFrame holding responses from `text_data`\n",
        "questions = pd.DataFrame({'Response': text_data, 'Cleaned': text_data_cleaned})\n",
        "questions['Assigned Topic'] = topic_assignments\n",
        "\n",
        "# Define topic names (you can update these after reviewing actual topic words)\n",
        "topic_names = {\n",
        "    0: \"STEM Content in Agriculture and Pre-technical Education\",\n",
        "    1: \"Digital Aids in Integrated Science and Math Lessons\",\n",
        "    2: \"Environmental Science & Agriculture: Plant and Soil Education\",\n",
        "    3: \"Computer-Supported Learning in Pre-technical and Science Subjects\",\n",
        "    4: \"Core Integrated Science Concepts Delivered Digitally\"\n",
        "}\n",
        "\n",
        "questions['Assigned Topic Name'] = questions['Assigned Topic'].map(topic_names)\n",
        "\n",
        "### Step 5: Frequency and Visualization ###\n",
        "# Calculate topic percentages\n",
        "topic_counts = questions['Assigned Topic Name'].value_counts().sort_values()\n",
        "topic_percentages = (topic_counts / topic_counts.sum() * 100).round(1)\n",
        "\n",
        "plt.figure(figsize=(10, 6))\n",
        "bars = plt.barh(topic_percentages.index, topic_percentages.values, color='teal')\n",
        "plt.xlabel(\"Percentage of Responses (%)\")\n",
        "plt.title(\"Suggested Training Needs for Future Professional Development\", fontsize=14)\n",
        "plt.grid(axis='x', linestyle='--', alpha=0.5)\n",
        "\n",
        "# Add percentages to bars\n",
        "for bar, pct in zip(bars, topic_percentages.values):\n",
        "    width = bar.get_width()\n",
        "    plt.text(width + 0.5, bar.get_y() + bar.get_height()/2,\n",
        "             f'{pct}%', va='center', fontsize=10)\n",
        "\n",
        "plt.tight_layout()\n",
        "plt.show()"
      ],
      "metadata": {
        "id": "XVQs4WKjaD3h"
      },
      "execution_count": null,
      "outputs": []
    },
    {
      "cell_type": "markdown",
      "source": [
        "INTERPRATION:\n",
        "1. Majority **29.3%** of students mentioned **Computer-Supported Learning in Pre-technical and Science Subjects** as specific lessons they were taught using digital resources. This theme puts Emphasis on digital tools (computers) used in Pre-Technical Studies and general sciences.\n",
        "- This was followed by:\n",
        "2. **STEM Content in Agriculture and Pre-technical Education** with (**24%**) of all student responses, this theme emphasizes digital instruction in Agriculture and Pre-Technical Education as core CBC learning areas.\n",
        "3. **Integrated Science and Math Lessons** with **20%** of all responses, this theme involved Use of videos to support understanding in core scientific structures and mathematical content.\n"
      ],
      "metadata": {
        "id": "SQttZHkUbHKl"
      }
    },
    {
      "cell_type": "markdown",
      "source": [
        "### QUESTION 3:**How often are digital resources used during your Science or mathematics lessons?(To probe how many lessons, digital resources have been used, in this term-  Science, mathematics, Pre-technical, and Agriculture, Physics, Biology or Chemistry lessons)**"
      ],
      "metadata": {
        "id": "rsqVTSPrcm0T"
      }
    },
    {
      "cell_type": "markdown",
      "source": [
        "- Extracting Frequency"
      ],
      "metadata": {
        "id": "5qn-4SSmdFMu"
      }
    },
    {
      "cell_type": "code",
      "source": [
        "col_name='digital_use_frequency'\n",
        "responses = df[col_name].dropna()\n",
        "\n",
        "# Helper function for mapping words to numbers\n",
        "word_to_num = {\n",
        "    'one': 1, 'once': 1,\n",
        "    'two': 2, 'twice': 2,\n",
        "    'three': 3, 'thrice': 3,\n",
        "    'four': 4,\n",
        "    'five': 5,\n",
        "    # add more if needed\n",
        "}\n",
        "\n",
        "def extract_numeric(text):\n",
        "    # Check for word numbers first\n",
        "    for word, num in word_to_num.items():\n",
        "        if re.search(rf'\\b{word}\\b', text):\n",
        "            return num\n",
        "    # Then check for digit numbers\n",
        "    match = re.search(r'\\b(\\d+)\\b', text)\n",
        "    if match:\n",
        "        return int(match.group(1))\n",
        "    return None\n",
        "\n",
        "def categorize_frequency(text):\n",
        "    text = str(text).strip().lower()\n",
        "\n",
        "    # Handle split/compound answers (e.g., \"maths-once, science-several, agriculture-thrice\")\n",
        "    if ',' in text or ';' in text:\n",
        "        # Split on commas or semicolons, categorize each, and pick the most frequent category\n",
        "        parts = re.split(r'[;,]', text)\n",
        "        categories = [categorize_frequency(part) for part in parts]\n",
        "        # Return the most frequent non 'Unclear/Other'\n",
        "        from collections import Counter\n",
        "        cat_counts = Counter(categories)\n",
        "        for cat, _ in cat_counts.most_common():\n",
        "            if cat != 'Unclear/Other':\n",
        "                return cat\n",
        "        return 'Unclear/Other'\n",
        "\n",
        "    # Specific patterns\n",
        "    if 'every day' in text or 'daily' in text:\n",
        "        return 'Daily'\n",
        "    if 'Everyday' in text or 'daily' in text:\n",
        "        return 'Daily'\n",
        "    if 'weekly' in text:\n",
        "        return 'Weekly'\n",
        "    if 'rarely' in text or 'not often' in text:\n",
        "        return 'Rarely'\n",
        "    if 'regularly' in text:\n",
        "        return 'Regularly (unspecified)'\n",
        "    if 'term' in text or 'month' in text or 'monthly' in text:\n",
        "        return 'Termly/Monthly'\n",
        "    if 'several' in text or 'few' in text:\n",
        "        return 'A few times'\n",
        "\n",
        "    # General numeric patterns\n",
        "    num = extract_numeric(text)\n",
        "    if num is not None:\n",
        "        # Check for 'per week' or 'a week'\n",
        "        if 'week' in text:\n",
        "            if num >= 5:\n",
        "                return 'Daily'\n",
        "            elif num >= 3:\n",
        "                return '3-4 times/week'\n",
        "            elif num == 2:\n",
        "                return 'Twice a week'\n",
        "            elif num == 1:\n",
        "                return 'Once a week'\n",
        "        # If no time period specified, but number present\n",
        "        else:\n",
        "            # Guessing: 1 = Once a week, 2 = Twice a week, 3-4 = 3-4 times/week, 5+ = Daily\n",
        "            if num >= 5:\n",
        "                return 'Daily'\n",
        "            elif num >= 3:\n",
        "                return '3-4 times/week'\n",
        "            elif num == 2:\n",
        "                return 'Twice a week'\n",
        "            elif num == 1:\n",
        "                return 'Once a week'\n",
        "    # Phrases like \"sometimes\" or \"occasionally\"\n",
        "    if 'sometimes' in text or 'occasionally' in text:\n",
        "        return 'Occasionally'\n",
        "\n",
        "    return 'Unclear/Other'\n",
        "\n",
        "# Apply categorization\n",
        "df['Usage Frequency Category'] = df[col_name].apply(categorize_frequency)\n",
        "\n",
        "# Frequency and percentage calculation\n",
        "freq_counts = df['Usage Frequency Category'].value_counts().sort_values(ascending=True)\n",
        "total = freq_counts.sum()\n",
        "freq_percentages = (freq_counts / total * 100).round(1)\n",
        "\n",
        "# Print analysis table\n",
        "summary = pd.DataFrame({'Count': freq_counts, 'Percentage': freq_percentages})\n",
        "print(\"Frequency of Digital Resource Use (N = {}):\".format(total))\n",
        "print(summary)\n",
        "\n",
        "# Plot results with both count and percentage\n",
        "plt.figure(figsize=(10, 6))\n",
        "bars = plt.barh(summary.index, summary['Count'], color='teal')\n",
        "plt.xlabel('Number of Responses')\n",
        "plt.title('Frequency of Digital Resource Use in Science/Math Lessons')\n",
        "plt.tight_layout()\n",
        "\n",
        "# Add count and percentage to bars\n",
        "for bar, count, pct in zip(bars, summary['Count'], summary['Percentage']):\n",
        "    width = bar.get_width()\n",
        "    plt.text(width + 1, bar.get_y() + bar.get_height()/2,\n",
        "             f'{int(count)} ({pct}%)', va='center', fontsize=10)\n",
        "\n",
        "plt.show()"
      ],
      "metadata": {
        "id": "BsqUBA6FcuXr"
      },
      "execution_count": null,
      "outputs": []
    },
    {
      "cell_type": "markdown",
      "source": [
        "INTERPRETATION:\n",
        "- Majority (**23%**) of the students indicated that they **RARELY** used Digital resources during your Science or mathematics lessons\n",
        "- While **14%** indicated they Used this digital resources **Termly/Monthly**\n",
        "- And **12%** indicated they used digital resources for maths and Science lessons **Twice a week**"
      ],
      "metadata": {
        "id": "B0RUxfn7g3rg"
      }
    },
    {
      "cell_type": "markdown",
      "source": [
        "### QUESTION 4: **Does your teacher allow you to interact with digital resources? (Probe on the mode of interaction with digital resources)**"
      ],
      "metadata": {
        "id": "zCWt--4xh8ek"
      }
    },
    {
      "cell_type": "markdown",
      "source": [
        "- Extract Frequency"
      ],
      "metadata": {
        "id": "3U0XN8wxi5bc"
      }
    },
    {
      "cell_type": "code",
      "source": [
        "\n",
        "col_name = 'student_interaction_mode'\n",
        "responses = df[col_name].dropna()\n",
        "\n",
        "def categorize_interaction(text):\n",
        "    text = str(text).strip().lower()\n",
        "    # Direct \"No\" responses\n",
        "    if re.fullmatch(r'no+', text) or text.startswith(\"no.\"):\n",
        "        return \"No\"\n",
        "    # Passive/Observed interaction (students do not handle devices)\n",
        "    if \"rarely\" in text or \"shown the outcome\" in text or \"watch\" in text or \"demonstrate\" in text:\n",
        "        return \"Rarely/Passive Observation\"\n",
        "    # Active group work\n",
        "    if \"group\" in text or \"groups\" in text:\n",
        "        return \"Yes - Group Interaction\"\n",
        "    # Allowed/search/use digital resources, explicit\n",
        "    if \"given\" in text or \"allowed\" in text or \"can search\" in text or \"were allowed\" in text:\n",
        "        return \"Yes - Active Individual Use\"\n",
        "    if \"search\" in text or \"google\" in text or \"youtube\" in text or \"use\" in text or \"using\" in text or \"operate\" in text or \"operating\" in text:\n",
        "        return \"Yes - Active Individual Use\"\n",
        "    # Sometimes/occasionally\n",
        "    if \"sometimes\" in text or \"occasionally\" in text:\n",
        "        return \"Yes - Active Individual Use\"\n",
        "    # Generic yes\n",
        "    if text.startswith(\"yes\"):\n",
        "        return \"Yes - Active Individual Use\"\n",
        "    # Fallback\n",
        "    return \"Other/Unclear\"\n",
        "\n",
        "df['Interaction Category'] = df[col_name].apply(categorize_interaction)\n",
        "\n",
        "# Frequency and percentage calculation\n",
        "freq_counts = df['Interaction Category'].value_counts().sort_values(ascending=True)\n",
        "total = freq_counts.sum()\n",
        "freq_percentages = (freq_counts / total * 100).round(1)\n",
        "\n",
        "# Print analysis table\n",
        "summary = pd.DataFrame({'Count': freq_counts, 'Percentage': freq_percentages})\n",
        "print(f\"Student Interaction Mode Analysis (N = {total}):\")\n",
        "print(summary)\n",
        "\n",
        "# Plot results with percentages\n",
        "plt.figure(figsize=(10, 6))\n",
        "bars = plt.barh(summary.index, summary['Count'], color='skyblue')\n",
        "plt.xlabel('Number of Responses')\n",
        "plt.title('Student Interaction with Digital Resources')\n",
        "plt.tight_layout()\n",
        "\n",
        "# Add count and percentage to bars\n",
        "for bar, count, pct in zip(bars, summary['Count'], summary['Percentage']):\n",
        "    width = bar.get_width()\n",
        "    plt.text(width + 0.5, bar.get_y() + bar.get_height()/2,\n",
        "             f'{int(count)} ({pct}%)', va='center', fontsize=10)\n",
        "\n",
        "plt.show()"
      ],
      "metadata": {
        "id": "DtE7XSU8gTeY"
      },
      "execution_count": null,
      "outputs": []
    },
    {
      "cell_type": "markdown",
      "source": [
        "- A large majority of students (71 out of 99, or 71.7%) reported \"Yes - Active Individual Use\". This means that most students are not just passive observers—they are actively and individually using digital resources in their lessons.\n",
        "- Group interactions account for 9 students (9.1%), indicating that some teachers encourage collaborative digital activities.\n",
        "- Other/Unclear responses make up 8 students (8.1%), suggesting a small portion of responses were ambiguous or didn’t fit standard categories.\n",
        "- No interaction was reported by 6 students (6.1%), showing that a minority of students are not allowed to interact with digital resources in any form.\n",
        "- Rarely/Passive Observation was reported by 5 students (5.1%), meaning a few students only watch or observe rather than interact directly."
      ],
      "metadata": {
        "id": "676zAklhkcsC"
      }
    },
    {
      "cell_type": "markdown",
      "source": [
        "QUESTION 5 : **How do you feel when your teacher uses digital resources in the lesson? (Probe for interest, or easy understanding)**"
      ],
      "metadata": {
        "id": "AXFO2zOhkr8E"
      }
    },
    {
      "cell_type": "markdown",
      "source": [
        "- Extracting student reactions using NLP"
      ],
      "metadata": {
        "id": "14mmh2h3obMm"
      }
    },
    {
      "cell_type": "code",
      "source": [
        "# define a function to analyze\n",
        "from textblob import TextBlob\n",
        "\n",
        "def analyze_student_feelings(df, text_column):\n",
        "    # ========== 1. Setup ==========\n",
        "    stop_words = set(stopwords.words('english'))\n",
        "    lemmatizer = WordNetLemmatizer()\n",
        "\n",
        "    # ========== 2. Clean text ==========\n",
        "    def clean_text(text):\n",
        "        text = str(text).lower()\n",
        "        text = re.sub(r'[^\\w\\s]', '', text)\n",
        "        tokens = word_tokenize(text)\n",
        "        tokens = [lemmatizer.lemmatize(word) for word in tokens if word not in stop_words]\n",
        "        return ' '.join(tokens)\n",
        "\n",
        "    df['cleaned_text'] = df[text_column].apply(clean_text)\n",
        "\n",
        "    # ========== 3. Assign Themes ==========\n",
        "    themes = {\n",
        "        'happy': ['happy', 'joy', 'glad', 'pleased', 'delight', 'excited', 'great', 'love', 'enjoy'],\n",
        "        'interested': ['interesting', 'interest', 'curious', 'engaged', 'motivated', 'lively'],\n",
        "        'understanding': ['understand', 'clear', 'easy', 'comprehend', 'know', 'learn', 'better'],\n",
        "        'confused': ['confused', 'lost', 'hard', 'difficult', 'bored', 'frustrated']\n",
        "    }\n",
        "\n",
        "    def assign_themes(text):\n",
        "        assigned = []\n",
        "        for theme, keywords in themes.items():\n",
        "            if any(k in text for k in keywords):\n",
        "                assigned.append(theme)\n",
        "        return assigned if assigned else ['no_theme']\n",
        "\n",
        "    df['themes'] = df['cleaned_text'].apply(assign_themes)\n",
        "\n",
        "    # ========== 4. Sentiment Analysis ==========\n",
        "    def get_sentiment(text):\n",
        "        analysis = TextBlob(text)\n",
        "        polarity = analysis.sentiment.polarity\n",
        "        if polarity > 0.1:\n",
        "            return 'positive'\n",
        "        elif polarity < -0.1:\n",
        "            return 'negative'\n",
        "        else:\n",
        "            return 'neutral'\n",
        "\n",
        "    df['sentiment'] = df['cleaned_text'].apply(get_sentiment)\n",
        "\n",
        "    # ========== 5. Summarize ==========\n",
        "    all_themes = [theme for sublist in df['themes'] for theme in sublist]\n",
        "    theme_counts = Counter(all_themes)\n",
        "    sentiment_counts = df['sentiment'].value_counts()\n",
        "\n",
        "    print(\"\\n--- Theme Frequencies ---\")\n",
        "    for theme, count in theme_counts.items():\n",
        "        print(f\"{theme}: {count}\")\n",
        "\n",
        "    print(\"\\n--- Sentiment Distribution ---\")\n",
        "    print(sentiment_counts)\n",
        "\n",
        "    # ========== 6. Visualize ==========\n",
        "    # Theme bar plot\n",
        "    plt.figure(figsize=(8, 4))\n",
        "    plt.bar(theme_counts.keys(), theme_counts.values(), color='skyblue')\n",
        "    plt.title(\"Theme Frequencies\")\n",
        "    plt.xlabel(\"Themes\")\n",
        "    plt.ylabel(\"Count\")\n",
        "    plt.xticks(rotation=45)\n",
        "    plt.tight_layout()\n",
        "    plt.show()\n",
        "\n",
        "    # Sentiment pie chart\n",
        "    plt.figure(figsize=(6, 6))\n",
        "    sentiment_counts.plot.pie(autopct='%1.1f%%', colors=['green', 'red', 'grey'])\n",
        "    plt.title(\"Sentiment Distribution\")\n",
        "    plt.ylabel(\"\")\n",
        "    plt.show()\n",
        "\n",
        "\n",
        "\n"
      ],
      "metadata": {
        "id": "vyoaC3Iao56_"
      },
      "execution_count": null,
      "outputs": []
    },
    {
      "cell_type": "code",
      "source": [
        "#  usage\n",
        "# Assuming df is your DataFrame\n",
        "results = analyze_student_feelings(df, 'student_feeling_about_digital')\n",
        "\n",
        "# View processed outputs\n",
        "results.head()\n"
      ],
      "metadata": {
        "id": "mVjCK31h4r0B"
      },
      "execution_count": null,
      "outputs": []
    },
    {
      "cell_type": "markdown",
      "source": [
        "**Key Insights:**\n",
        "\n",
        "1. **\"understanding\" (73 mentions)**\n",
        "- This is the dominant theme, mentioned in 73 out of 99 responses.\n",
        "- Interpretation: Most students feel that digital resources help them understand lessons better, indicating a clear cognitive benefit.\n",
        "\n",
        "2. **\"happy\" and \"interested\" (both 47 mentions)**\n",
        "- These reflect strong emotional engagement and positive affective responses to digital learning.\n",
        "- Interpretation: Many students feel emotionally positive and engaged, showing that digital tools may enhance not just learning, but also the classroom experience."
      ],
      "metadata": {
        "id": "pZ16lEG65fPU"
      }
    },
    {
      "cell_type": "markdown",
      "source": [
        "**Key Insights - Sentiment Analysis**:\n",
        "1. **94%** of responses are positive — This shows a strong overall satisfaction with the use of digital resources.\n",
        "\n",
        "2. No negative sentiments detected — Even if a few concerns exist (like the 1 \"confused\" theme), they don't significantly affect the emotional tone.\n",
        "\n",
        "3. Neutral sentiments (6 responses) may reflect brief or factual responses without emotional weight (e.g., “It helps us learn”)."
      ],
      "metadata": {
        "id": "GLLHJKKd5v1L"
      }
    },
    {
      "cell_type": "markdown",
      "source": [
        "QUESTION 5b : **Can you share an example of a digital resource that made the lesson exciting, enjoyable, or easier to understand? (Probe for Integrated science, mathematics,  pre-technical, and Agriculture, Physics, Biology or Chemistry)**\n",
        "\n",
        "- moving from affective evaluation to experiential evidence and concrete examples\n",
        "\n",
        "**Objective**\n",
        "- To identify specific digital resources or tools students found exciting, enjoyable, or helpful for understanding lessons — especially within specific subjects:\n",
        "Integrated Science, Mathematics, Pre-Technical Skills, Agriculture, Physics, Biology, Chemistry."
      ],
      "metadata": {
        "id": "tNr9bvSslGEs"
      }
    },
    {
      "cell_type": "code",
      "source": [
        "def analyze_digital_resource_examples(df, text_column):\n",
        "    import pandas as pd\n",
        "    import re\n",
        "    from collections import Counter\n",
        "    import matplotlib.pyplot as plt\n",
        "    from wordcloud import WordCloud\n",
        "\n",
        "    # Define known digital tools and subjects\n",
        "    digital_tools = [\n",
        "        'tablets', 'projector','projectors', 'laptops', 'computer','computers', 'smartphone','smartphones', 'ipad', 'video', 'audio',\n",
        "        'simulation', 'animation', 'internet', 'google', 'photos', 'apps', 'presentation',\n",
        "        'powerpoint', 'pdf', 'digital board', 'quiz', 'game', 'phone'\n",
        "    ]\n",
        "\n",
        "    subject_areas = [\n",
        "        'integrated science', 'mathematics', 'math', 'pre-technical', 'pre technical',\n",
        "        'agriculture', 'physics', 'biology', 'chemistry'\n",
        "    ]\n",
        "\n",
        "    def extract_resources(text):\n",
        "        text = str(text).lower()\n",
        "        tools = [tool for tool in digital_tools if tool in text]\n",
        "        subjects = [subject for subject in subject_areas if subject in text]\n",
        "        return tools, subjects\n",
        "\n",
        "    df['digital_tools'], df['subjects'] = zip(*df[text_column].apply(extract_resources))\n",
        "\n",
        "    # Count frequency\n",
        "    all_tools = [tool for sublist in df['digital_tools'] for tool in sublist]\n",
        "    all_subjects = [subject for sublist in df['subjects'] for subject in sublist]\n",
        "    tool_counts = Counter(all_tools)\n",
        "    subject_counts = Counter(all_subjects)\n",
        "\n",
        "    # Print summaries\n",
        "    print(\"\\n--- Most Frequently Mentioned Digital Tools ---\")\n",
        "    for tool, count in tool_counts.items():\n",
        "        print(f\"{tool}: {count}\")\n",
        "\n",
        "    print(\"\\n--- Subject Areas Where Tools Were Applied ---\")\n",
        "    for subject, count in subject_counts.items():\n",
        "        print(f\"{subject}: {count}\")\n",
        "\n",
        "\n",
        "analyze_digital_resource_examples(df, 'example_enjoyable_digital_resource')\n",
        "\n"
      ],
      "metadata": {
        "id": "6IZQU-YU6pVu"
      },
      "execution_count": null,
      "outputs": []
    },
    {
      "cell_type": "markdown",
      "source": [
        "**ADDITIONAL STEPS TO ANSWER**"
      ],
      "metadata": {
        "id": "dwU7fmDS_C2p"
      }
    },
    {
      "cell_type": "markdown",
      "source": [
        "![image.png](data:image/png;base64,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)"
      ],
      "metadata": {
        "id": "rDsexf6S84vy"
      }
    },
    {
      "cell_type": "markdown",
      "source": [
        "![image.png](data:image/png;base64,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)"
      ],
      "metadata": {
        "id": "Wsnh7zld8_gq"
      }
    },
    {
      "cell_type": "code",
      "source": [
        "# step 1 Quantitative Summary by Theme and Tool\n",
        "# Start with grouped summaries such as:\n",
        "df['Feeling Category'].value_counts()\n"
      ],
      "metadata": {
        "id": "F_31qFTT8OzD"
      },
      "execution_count": null,
      "outputs": []
    },
    {
      "cell_type": "code",
      "source": [
        "# step 2 :  Top Tools by Category\n",
        "# Link tools to feeling categories:\n",
        "\n",
        "tool_by_feeling = defaultdict(list)\n",
        "\n",
        "for _, row in df.iterrows():\n",
        "    tools = str(row['example_enjoyable_digital_resource']).lower()\n",
        "    category = row['Feeling Category']\n",
        "    if pd.notna(tools) and pd.notna(category):\n",
        "        for tool in ['laptop', 'tablet', 'projector', 'smartphone', 'computer']:\n",
        "            if tool in tools:\n",
        "                tool_by_feeling[category].append(tool)\n",
        "\n",
        "#summary\n",
        "{cat: Counter(tools) for cat, tools in tool_by_feeling.items()}\n"
      ],
      "metadata": {
        "id": "qVEp9nAg9QDk"
      },
      "execution_count": null,
      "outputs": []
    },
    {
      "cell_type": "code",
      "source": [
        "# Step 3: 3. Subject-Level Insights\n",
        "# Parse lessons_taught_with_digital for subject patterns:\n",
        "subject_keywords = {\n",
        "    'Integrated Science': ['integrated science', 'living things', 'plants'],\n",
        "    'Mathematics': ['mathematics', 'math'],\n",
        "    'Agriculture': ['agriculture', 'farming'],\n",
        "    'Biology': ['biology'],\n",
        "    'Chemistry': ['chemistry', 'atom', 'molecules'],\n",
        "    'Physics': ['physics'],\n",
        "    'Pre-Technical': ['pre-technical', 'scratch', 'materials']\n",
        "}\n",
        "\n",
        "def match_subject(text):\n",
        "    matches = []\n",
        "    text = str(text).lower()\n",
        "    for subject, keywords in subject_keywords.items():\n",
        "        if any(kw in text for kw in keywords):\n",
        "            matches.append(subject)\n",
        "    return matches if matches else ['Unknown']\n",
        "\n",
        "df['Subjects'] = df['lessons_taught_with_digital'].apply(match_subject)\n",
        "#  count frequency\n",
        "from itertools import chain\n",
        "pd.Series(list(chain.from_iterable(df['Subjects']))).value_counts()\n"
      ],
      "metadata": {
        "id": "zrw7EguA9gv8"
      },
      "execution_count": null,
      "outputs": []
    },
    {
      "cell_type": "code",
      "source": [
        "# step 4 :4. Cross-Tab Summary: Subjects × Tools × Feelings\n",
        "# Build a 3-way pivot or grouped summary:\n",
        "summary = df.explode('Subjects').groupby(['Subjects', 'Feeling Category'])['example_enjoyable_digital_resource'].count().unstack(fill_value=0)\n",
        "summary"
      ],
      "metadata": {
        "id": "2W9QMm2o9sF5"
      },
      "execution_count": null,
      "outputs": []
    },
    {
      "cell_type": "markdown",
      "source": [
        "- Above cross-tab **shows which subjects had the most positive emotional and learning outcomes, supported by which tools.**"
      ],
      "metadata": {
        "id": "FsEQctTZ9yPk"
      }
    },
    {
      "cell_type": "markdown",
      "source": [
        "- The responses overwhelmingly show that **digital resources such as tablets, laptops, projectors, and computers have a strong positive impact on students' interest, enjoyment, and conceptual understanding** across multiple CBC curriculum subjects.\n",
        "- Students associate these tools with better visualization, interactive access to information, and excitement during learning.\n",
        "- **91% of responses** reflect positive affective and cognitive experiences, with most students reporting better comprehension and more engaging learning due to digital tools.\n",
        "- Visual and interactive tools (e.g., projectors, tablets) are particularly valued for bringing abstract concepts to life, while laptops and computers enable access to digital content and online research.\n",
        "- Integrated Science and Agriculture stand out as subjects where digital resources are highly appreciated for making lessons more concrete and relatable. Mathematics and Pre-Technical also show strong positive reactions, particularly where tools like projectors and simulations are used.\n",
        "- Projectors and tablets are heavily associated with visual reinforcement of theoretical content. Students often reference seeing diagrams, videos, or live demonstrations as the reason for improved understanding."
      ],
      "metadata": {
        "id": "yLzCV1jR-o8h"
      }
    },
    {
      "cell_type": "markdown",
      "source": [
        "QUESTION 6: **Does your teacher give you assignments on the main idea learnt when using digital resources in a lesson? (If YES, explain how the assignment help you to recall the learnt idea)**"
      ],
      "metadata": {
        "id": "xqfP5ffTlNjC"
      }
    },
    {
      "cell_type": "markdown",
      "source": [
        "- STEPS:\n",
        "1. Identify Who Said \"Yes\" vs. \"No\" (Including Variants & Slang)\n",
        "**Goal:**\n",
        "- Categorize responses into YES, NO, and UNCLEAR based on keywords, slang, and expressions.\n",
        "\n",
        "- Build dictionaries of slang/phrases to robustly capture variants of agreement or disagreement."
      ],
      "metadata": {
        "id": "RVrFJ2KaC1oZ"
      }
    },
    {
      "cell_type": "code",
      "source": [
        "# Variants of \"Yes\" or agreement in junior secondary/slang or casual language:\n",
        "yes_terms = [\n",
        "    \"yes\", \"yep\", \"yeah\", \"yea\", \"of course\", \"sure\", \"definitely\",\n",
        "    \"assignment\", \"given\", \"helps\", \"help\", \"we do\", \"we get\", \"they give\",\n",
        "    \"research\", \"practice\", \"use\", \"study\", \"copy\", \"search\", \"do homework\",\n",
        "    \"follow up\", \"further\", \"recall\", \"remember\", \"revision\", \"revise\"\n",
        "]\n",
        "\n",
        "# Variants of \"No\" or disagreement:\n",
        "no_terms = [\n",
        "    \"no\", \"not\", \"rarely\", \"never\", \"nothing\", \"none\", \"nope\", \"nah\", \"don't\",\n",
        "    \"didn't\", \"doesn't\", \"haven't\", \"don't get\", \"no assignment\", \"not given\",\n",
        "    \"no help\", \"nope\", \"nothing\"\n",
        "]\n",
        "\n",
        "#  Step 2: Define a function to classify responses as Yes, No, or Unclear\n",
        "\n",
        "\n",
        "def classify_assignment_response(text):\n",
        "    text_lower = text.lower()\n",
        "\n",
        "    # Check for NO terms first to avoid false positives (e.g., \"No, but...\")\n",
        "    if any(re.search(r'\\b' + re.escape(term) + r'\\b', text_lower) for term in no_terms):\n",
        "        return \"No\"\n",
        "\n",
        "    # Check for YES terms\n",
        "    if any(re.search(r'\\b' + re.escape(term) + r'\\b', text_lower) for term in yes_terms):\n",
        "        return \"Yes\"\n",
        "\n",
        "    return \"Unclear\"\n",
        "#  Step 3: Apply classification and summarize counts\n",
        "df['assignment_agreement'] = df['assignment_recall_help'].apply(classify_assignment_response)\n",
        "summary = df['assignment_agreement'].value_counts()\n",
        "print(summary)\n",
        "\n"
      ],
      "metadata": {
        "id": "E9fQvMy6DBwV"
      },
      "execution_count": null,
      "outputs": []
    },
    {
      "cell_type": "code",
      "source": [
        "#plotting\n",
        "\n",
        "\n",
        "# Data\n",
        "labels = ['Yes', 'Unclear', 'No']\n",
        "counts = [75, 13, 11]\n",
        "colors = ['mediumseagreen', 'gold', 'salmon']\n",
        "\n",
        "# Calculate percentages for labels\n",
        "percentages = [count / sum(counts) * 100 for count in counts]\n",
        "labels_with_pct = [f'{label} ({count}, {pct:.1f}%)' for label, count, pct in zip(labels, counts, percentages)]\n",
        "\n",
        "plt.figure(figsize=(7, 7))\n",
        "plt.pie(counts, labels=labels_with_pct, colors=colors, startangle=140, autopct='%1.1f%%', pctdistance=0.85, wedgeprops={'edgecolor': 'white'})\n",
        "plt.title(\"Assignment Agreement Responses\")\n",
        "plt.tight_layout()\n",
        "plt.show()"
      ],
      "metadata": {
        "id": "thGr9sa6EYOw"
      },
      "execution_count": null,
      "outputs": []
    },
    {
      "cell_type": "markdown",
      "source": [
        "- **76%** of students Indicated that they received an assignment  on the main idea learnt when using digital resources in a lesson\n",
        "- Only **11%** of students mention **NOT RECEIVING** an assignment from their teachers\n",
        "- This indicates that assignment-giving is a common practice during digital resource–integrated lessons, aligning with CBC's emphasis on learner engagement and competency reinforcement through personal tasks and exploration."
      ],
      "metadata": {
        "id": "y9zCP3SAElyj"
      }
    },
    {
      "cell_type": "markdown",
      "source": [
        "- Step 4: **For those classified as \"Yes\", analyze how the assignment helps recall**\n",
        "\n",
        "Approach:\n",
        "1. Text preprocessing (clean, tokenize, remove stopwords).\n",
        "\n",
        "2. Thematic extraction:\n",
        "\n",
        "- Use keyword matching for common themes (e.g., \"research\", \"practice\", \"revision\", \"understand\", \"remember\").\n",
        "\n",
        "\n",
        "3. Build theme dictionary for recall-helping mechanisms, e.g.:"
      ],
      "metadata": {
        "id": "KJZohJdGDT-c"
      }
    },
    {
      "cell_type": "code",
      "source": [
        "recall_themes = {\n",
        "    \"research\": [\"research\", \"search\", \"find\", \"look up\", \"information\"],\n",
        "    \"practice\": [\"practice\", \"exercise\", \"repeat\", \"do it again\"],\n",
        "    \"understanding\": [\"understand\", \"comprehend\", \"make sense\", \"clear\"],\n",
        "    \"revision\": [\"revise\", \"revision\", \"go over\", \"repeat\", \"review\"],\n",
        "    \"memory\": [\"remember\", \"recall\", \"memorize\", \"remind\"],\n",
        "    \"application\": [\"apply\", \"use\", \"draw\", \"explain\", \"demonstrate\"],\n",
        "    \"collaboration\": [\"group\", \"discuss\", \"work together\", \"help each other\"],\n",
        "\n",
        "}\n",
        "#  Step 5: Function to assign themes based on keywords\n",
        "def extract_recall_themes(text):\n",
        "    text_lower = text.lower()\n",
        "    matched_themes = []\n",
        "    for theme, keywords in recall_themes.items():\n",
        "        if any(k in text_lower for k in keywords):\n",
        "            matched_themes.append(theme)\n",
        "    return matched_themes if matched_themes else [\"other\"]\n",
        "\n",
        "#  extracting values of yes\n",
        "df_yes = df[df['assignment_agreement'] == \"Yes\"].copy()\n",
        "df_yes['recall_themes'] = df_yes['assignment_recall_help'].apply(extract_recall_themes)\n",
        "\n",
        "# Step 7: Aggregate theme counts to find dominant recall-support strategies\n",
        "from collections import Counter\n",
        "all_themes = sum(df_yes['recall_themes'].tolist(), [])\n",
        "theme_counts = Counter(all_themes)\n",
        "print(theme_counts.most_common())\n"
      ],
      "metadata": {
        "id": "Tie0qFsVFCOj"
      },
      "execution_count": null,
      "outputs": []
    },
    {
      "cell_type": "code",
      "source": [
        "\n",
        "\n",
        "# Theme counts from earlier\n",
        "theme_counts = {\n",
        "    'Research': 34,\n",
        "    'Application': 16,\n",
        "    'Understanding': 11,\n",
        "    'Memory': 11,\n",
        "    'Practice': 3,\n",
        "    'Revision': 2,\n",
        "    'Collaboration': 1\n",
        "}\n",
        "\n",
        "# Bar chart\n",
        "plt.figure(figsize=(10, 6))\n",
        "plt.bar(theme_counts.keys(), theme_counts.values(), color='skyblue')\n",
        "plt.title(\"How Assignments Help Students Recall Concepts (Question 6)\", fontsize=14)\n",
        "plt.xlabel(\"Theme\", fontsize=12)\n",
        "plt.ylabel(\"Number of Mentions\", fontsize=12)\n",
        "plt.xticks(rotation=45, ha='right')\n",
        "plt.tight_layout()\n",
        "plt.grid(axis='y', linestyle='--', alpha=0.7)\n",
        "plt.show()\n"
      ],
      "metadata": {
        "id": "FklgmZWDHFNZ"
      },
      "execution_count": null,
      "outputs": []
    },
    {
      "cell_type": "markdown",
      "source": [
        "- Students cited that the **most common benefit** cited is the **ability to research further**, followed by **applying what was learned**, in achieving deeper understanding or recall**.\n",
        "\n",
        "- This shows strong alignment with the CBC’s learner-centered goals. However, opportunities exist to enhance clarity, promote collaborative work, and embed revision practices to maximize retention."
      ],
      "metadata": {
        "id": "2WwPW-TqGQom"
      }
    },
    {
      "cell_type": "code",
      "source": [],
      "metadata": {
        "id": "_sxB9nJiJcxI"
      },
      "execution_count": null,
      "outputs": []
    }
  ]
}